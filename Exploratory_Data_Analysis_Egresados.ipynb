{
  "cells": [
    {
      "cell_type": "code",
      "execution_count": null,
      "id": "2bd1382b-3f53-404a-8b87-416f3e81d5be",
      "metadata": {
        "id": "2bd1382b-3f53-404a-8b87-416f3e81d5be"
      },
      "outputs": [],
      "source": [
        "import pandas as pd"
      ]
    },
    {
      "cell_type": "markdown",
      "id": "619c6a33-2bd8-4dab-b7c3-1b24384f08b6",
      "metadata": {
        "jp-MarkdownHeadingCollapsed": true,
        "id": "619c6a33-2bd8-4dab-b7c3-1b24384f08b6"
      },
      "source": [
        "## Datos:\n",
        "* CCB\n",
        "* Dane consumo\n",
        "* Galerías?\n",
        "* ArtNet\n",
        "Hoy: **datos de egresados de arte**"
      ]
    },
    {
      "cell_type": "markdown",
      "id": "9cb095b5-8720-43eb-8380-d3775c4f3dcb",
      "metadata": {
        "id": "9cb095b5-8720-43eb-8380-d3775c4f3dcb"
      },
      "source": [
        "## Carga de datos"
      ]
    },
    {
      "cell_type": "code",
      "execution_count": null,
      "id": "3cc15657-a2f2-4c12-9816-34b590bf1710",
      "metadata": {
        "id": "3cc15657-a2f2-4c12-9816-34b590bf1710"
      },
      "outputs": [],
      "source": [
        "excel = pd.ExcelFile('BD Alumni Artes 28012025.xlsb')\n",
        "hojas = excel.sheet_names"
      ]
    },
    {
      "cell_type": "code",
      "execution_count": null,
      "id": "15e72f00-5dab-446d-a397-e6c7ede5d739",
      "metadata": {
        "id": "15e72f00-5dab-446d-a397-e6c7ede5d739",
        "outputId": "0c157dca-562c-4171-faba-7280c6f2e755"
      },
      "outputs": [
        {
          "data": {
            "text/plain": [
              "['Alumni únicos', 'Alumni con Títulos']"
            ]
          },
          "execution_count": 44,
          "metadata": {},
          "output_type": "execute_result"
        }
      ],
      "source": [
        "hojas"
      ]
    },
    {
      "cell_type": "code",
      "execution_count": null,
      "id": "f4cdff08-0a3b-4014-aaf6-64cadb0c3e18",
      "metadata": {
        "id": "f4cdff08-0a3b-4014-aaf6-64cadb0c3e18"
      },
      "outputs": [],
      "source": [
        "alumniUnicos = pd.read_excel('BD Alumni Artes 28012025.xlsb', sheet_name='Alumni únicos')"
      ]
    },
    {
      "cell_type": "markdown",
      "id": "e62015f4-1405-49bf-a721-fc5b5d627494",
      "metadata": {
        "id": "e62015f4-1405-49bf-a721-fc5b5d627494"
      },
      "source": [
        "## Primer vistazo a los datos"
      ]
    },
    {
      "cell_type": "code",
      "execution_count": null,
      "id": "6a91890d-cca5-4a19-ad25-fa00cc39be0b",
      "metadata": {
        "id": "6a91890d-cca5-4a19-ad25-fa00cc39be0b",
        "outputId": "be57a868-0501-4b23-b83d-cf25bcd534b3"
      },
      "outputs": [
        {
          "name": "stdout",
          "output_type": "stream",
          "text": [
            "<class 'pandas.core.frame.DataFrame'>\n",
            "RangeIndex: 1464 entries, 0 to 1463\n",
            "Data columns (total 37 columns):\n",
            " #   Column                                 Non-Null Count  Dtype  \n",
            "---  ------                                 --------------  -----  \n",
            " 0   ID                                     1464 non-null   object \n",
            " 1   Fallecido                              1464 non-null   int64  \n",
            " 2   Género                                 1464 non-null   object \n",
            " 3   Fecha de nacimiento                    1418 non-null   float64\n",
            " 4   Edad                                   1418 non-null   float64\n",
            " 5   Generación                             1418 non-null   object \n",
            " 6   Estrato                                1223 non-null   float64\n",
            " 7   Estado Civil                           1380 non-null   object \n",
            " 8   Número de Títulos Formales             1464 non-null   int64  \n",
            " 9   Número de Títulos No formales          1464 non-null   int64  \n",
            " 10  Nivel Banner                           1464 non-null   object \n",
            " 11  Grado: Tipo de registro                1464 non-null   object \n",
            " 12  Nombre Departamento                    1233 non-null   object \n",
            " 13  Nombre Facultad                        1464 non-null   object \n",
            " 14  Programa                               1464 non-null   object \n",
            " 15  Título                                 1464 non-null   object \n",
            " 16  Fecha grado                            1464 non-null   int64  \n",
            " 17  Período de grado                       1464 non-null   object \n",
            " 18  Nivel Jerárquico                       1083 non-null   object \n",
            " 19  Cargo                                  1083 non-null   object \n",
            " 20  Empleador                              1464 non-null   object \n",
            " 21  Sector                                 1464 non-null   object \n",
            " 22  Rango Salarial                         87 non-null     object \n",
            " 23  Fecha actualización Rango Salarial     87 non-null     float64\n",
            " 24  País de residencia                     1408 non-null   object \n",
            " 25  Departamento o Estado de residencia    1408 non-null   object \n",
            " 26  Ciudad de residencia                   1408 non-null   object \n",
            " 27  País Laboral                           904 non-null    object \n",
            " 28  Departamento o Estado Laboral          904 non-null    object \n",
            " 29  Ciudad Laboral                         904 non-null    object \n",
            " 30  Fecha actualización datos primarios    1464 non-null   int64  \n",
            " 31  Fecha actualización datos secundarios  1464 non-null   int64  \n",
            " 32  Fecha actualización datos laborales    1464 non-null   int64  \n",
            " 33  Administrativo                         1464 non-null   int64  \n",
            " 34  Profesor                               1464 non-null   int64  \n",
            " 35  Profesor/Administrativo retirado       1464 non-null   int64  \n",
            " 36  Padre/madre de Alumni                  1464 non-null   int64  \n",
            "dtypes: float64(4), int64(11), object(22)\n",
            "memory usage: 423.3+ KB\n"
          ]
        }
      ],
      "source": [
        "alumniUnicos.info()"
      ]
    },
    {
      "cell_type": "code",
      "execution_count": null,
      "id": "3aade25c-59f7-4140-8424-7be155821ffe",
      "metadata": {
        "id": "3aade25c-59f7-4140-8424-7be155821ffe",
        "outputId": "f17b8804-1b2c-4459-8122-48c08bea967c"
      },
      "outputs": [
        {
          "data": {
            "text/plain": [
              "Index(['ID', 'Fallecido', 'Género', 'Fecha de nacimiento', 'Edad',\n",
              "       'Generación', 'Estrato', 'Estado Civil', 'Número de Títulos Formales',\n",
              "       'Número de Títulos No formales', 'Nivel Banner',\n",
              "       'Grado: Tipo de registro', 'Nombre Departamento', 'Nombre Facultad',\n",
              "       'Programa', 'Título', 'Fecha grado', 'Período de grado',\n",
              "       'Nivel Jerárquico', 'Cargo', 'Empleador', 'Sector', 'Rango Salarial',\n",
              "       'Fecha actualización Rango Salarial', 'País de residencia',\n",
              "       'Departamento o Estado de residencia', 'Ciudad de residencia',\n",
              "       'País Laboral', 'Departamento o Estado Laboral', 'Ciudad Laboral',\n",
              "       'Fecha actualización datos primarios',\n",
              "       'Fecha actualización datos secundarios',\n",
              "       'Fecha actualización datos laborales', 'Administrativo', 'Profesor',\n",
              "       'Profesor/Administrativo retirado', 'Padre/madre de Alumni'],\n",
              "      dtype='object')"
            ]
          },
          "execution_count": 47,
          "metadata": {},
          "output_type": "execute_result"
        }
      ],
      "source": [
        "alumniUnicos.columns"
      ]
    },
    {
      "cell_type": "code",
      "execution_count": null,
      "id": "ca00c09a-e9d9-441c-a5aa-56e97623350c",
      "metadata": {
        "id": "ca00c09a-e9d9-441c-a5aa-56e97623350c",
        "outputId": "9b17e00c-7846-4b5e-88cc-86bb486159dd"
      },
      "outputs": [
        {
          "data": {
            "text/html": [
              "<div>\n",
              "<style scoped>\n",
              "    .dataframe tbody tr th:only-of-type {\n",
              "        vertical-align: middle;\n",
              "    }\n",
              "\n",
              "    .dataframe tbody tr th {\n",
              "        vertical-align: top;\n",
              "    }\n",
              "\n",
              "    .dataframe thead th {\n",
              "        text-align: right;\n",
              "    }\n",
              "</style>\n",
              "<table border=\"1\" class=\"dataframe\">\n",
              "  <thead>\n",
              "    <tr style=\"text-align: right;\">\n",
              "      <th></th>\n",
              "      <th>Fecha grado</th>\n",
              "      <th>Programa</th>\n",
              "      <th>Título</th>\n",
              "    </tr>\n",
              "  </thead>\n",
              "  <tbody>\n",
              "    <tr>\n",
              "      <th>0</th>\n",
              "      <td>40775</td>\n",
              "      <td>ARTE</td>\n",
              "      <td>Maestra en Arte. Concentración: Medios Electró...</td>\n",
              "    </tr>\n",
              "    <tr>\n",
              "      <th>1</th>\n",
              "      <td>40775</td>\n",
              "      <td>ARTE</td>\n",
              "      <td>Maestra en Arte. Concentración: Historia y Teo...</td>\n",
              "    </tr>\n",
              "    <tr>\n",
              "      <th>2</th>\n",
              "      <td>44439</td>\n",
              "      <td>ARTE</td>\n",
              "      <td>Maestra en Arte</td>\n",
              "    </tr>\n",
              "    <tr>\n",
              "      <th>3</th>\n",
              "      <td>40775</td>\n",
              "      <td>ARTE</td>\n",
              "      <td>Maestra en Arte. Concentraciones: Artes Plásti...</td>\n",
              "    </tr>\n",
              "    <tr>\n",
              "      <th>4</th>\n",
              "      <td>40775</td>\n",
              "      <td>ARTE</td>\n",
              "      <td>Maestra en Arte. Concentraciones: Artes Plásti...</td>\n",
              "    </tr>\n",
              "  </tbody>\n",
              "</table>\n",
              "</div>"
            ],
            "text/plain": [
              "   Fecha grado Programa                                             Título\n",
              "0        40775     ARTE  Maestra en Arte. Concentración: Medios Electró...\n",
              "1        40775     ARTE  Maestra en Arte. Concentración: Historia y Teo...\n",
              "2        44439     ARTE                                    Maestra en Arte\n",
              "3        40775     ARTE  Maestra en Arte. Concentraciones: Artes Plásti...\n",
              "4        40775     ARTE  Maestra en Arte. Concentraciones: Artes Plásti..."
            ]
          },
          "execution_count": 48,
          "metadata": {},
          "output_type": "execute_result"
        }
      ],
      "source": [
        "alumniUnicos[['Fecha grado', 'Programa', 'Título']].head()"
      ]
    },
    {
      "cell_type": "code",
      "execution_count": null,
      "id": "577bc8fc-0dbf-4f5a-9b8c-a1662b2a7d39",
      "metadata": {
        "id": "577bc8fc-0dbf-4f5a-9b8c-a1662b2a7d39",
        "outputId": "32b230a4-6213-4236-bd40-57e12dcc075f"
      },
      "outputs": [
        {
          "data": {
            "text/plain": [
              "Programa\n",
              "ARTE                 1041\n",
              "ARTES PLASTICAS       230\n",
              "HISTORIA DEL ARTE     124\n",
              "BELLAS ARTES           69\n",
              "Name: count, dtype: int64"
            ]
          },
          "execution_count": 49,
          "metadata": {},
          "output_type": "execute_result"
        }
      ],
      "source": [
        "alumniUnicos['Programa'].value_counts()"
      ]
    },
    {
      "cell_type": "code",
      "execution_count": null,
      "id": "45c5f758-cf91-4ce3-bcbd-ae62b005e7e0",
      "metadata": {
        "id": "45c5f758-cf91-4ce3-bcbd-ae62b005e7e0"
      },
      "outputs": [],
      "source": [
        "alumniUnicos['Fecha grado'] = pd.to_datetime(alumniUnicos['Fecha grado'],origin='1899-12-30', unit='D')"
      ]
    },
    {
      "cell_type": "code",
      "execution_count": null,
      "id": "c1f4025f-9bc4-4864-a26f-3a88fc5d8bc7",
      "metadata": {
        "id": "c1f4025f-9bc4-4864-a26f-3a88fc5d8bc7"
      },
      "outputs": [],
      "source": [
        "import seaborn as sns"
      ]
    },
    {
      "cell_type": "code",
      "execution_count": null,
      "id": "0aa993fc-8d18-4655-a025-e17ffb8730a5",
      "metadata": {
        "id": "0aa993fc-8d18-4655-a025-e17ffb8730a5",
        "outputId": "6b382f51-cd0d-4d9b-e4ba-698ee1651f7d"
      },
      "outputs": [
        {
          "data": {
            "text/plain": [
              "<Axes: xlabel='Fecha grado', ylabel='Programa'>"
            ]
          },
          "execution_count": 52,
          "metadata": {},
          "output_type": "execute_result"
        },
        {
          "data": {
            "image/png": "[encoded data removed]",
            "text/plain": [
              "<Figure size 640x480 with 2 Axes>"
            ]
          },
          "metadata": {},
          "output_type": "display_data"
        }
      ],
      "source": [
        "sns.heatmap(pd.crosstab(alumniUnicos['Programa'], alumniUnicos['Fecha grado']))"
      ]
    },
    {
      "cell_type": "markdown",
      "id": "b1d4f530-8afc-4d81-be36-e8f91e96965e",
      "metadata": {
        "id": "b1d4f530-8afc-4d81-be36-e8f91e96965e"
      },
      "source": [
        "**NOTA**: Observamos que a lo largo del tiempo el programa de arte se ha llamado de diferentes formas, sólo se van a filtrar los datos de Historia del arte."
      ]
    },
    {
      "cell_type": "code",
      "execution_count": null,
      "id": "59ceb0c8-6a49-459e-be76-a6a853a71e1b",
      "metadata": {
        "id": "59ceb0c8-6a49-459e-be76-a6a853a71e1b",
        "outputId": "483923bd-4d43-414a-f21b-908c4f3f3d37"
      },
      "outputs": [
        {
          "data": {
            "text/plain": [
              "Programa\n",
              "ARTE               1041\n",
              "ARTES PLASTICAS     230\n",
              "BELLAS ARTES         69\n",
              "Name: count, dtype: int64"
            ]
          },
          "execution_count": 53,
          "metadata": {},
          "output_type": "execute_result"
        }
      ],
      "source": [
        "datosArtistas = alumniUnicos[alumniUnicos['Programa']!='HISTORIA DEL ARTE'].copy()\n",
        "datosArtistas['Programa'].value_counts()"
      ]
    },
    {
      "cell_type": "code",
      "execution_count": null,
      "id": "9e866fad-7f6a-4ffd-81bf-73c03f9180f9",
      "metadata": {
        "id": "9e866fad-7f6a-4ffd-81bf-73c03f9180f9"
      },
      "outputs": [],
      "source": [
        "datosArtistas['Fecha actualización Rango Salarial'] = pd.to_datetime(alumniUnicos['Fecha actualización Rango Salarial'],origin='1899-12-30', unit='D')"
      ]
    },
    {
      "cell_type": "code",
      "execution_count": null,
      "id": "4b0e502e-b6ed-43f7-b666-5b70cf465d55",
      "metadata": {
        "id": "4b0e502e-b6ed-43f7-b666-5b70cf465d55",
        "outputId": "d68a9276-0824-461f-c585-4b5449f7c864"
      },
      "outputs": [
        {
          "data": {
            "text/plain": [
              "<Axes: xlabel='Fecha grado', ylabel='count'>"
            ]
          },
          "execution_count": 55,
          "metadata": {},
          "output_type": "execute_result"
        },
        {
          "data": {
            "image/png": "[encoded data removed]",
            "text/plain": [
              "<Figure size 640x480 with 1 Axes>"
            ]
          },
          "metadata": {},
          "output_type": "display_data"
        }
      ],
      "source": [
        "sns.lineplot(datosArtistas['Fecha grado'].dt.year.value_counts().sort_index())"
      ]
    },
    {
      "cell_type": "code",
      "execution_count": null,
      "id": "f136168d-2783-4eb7-bad5-4b2836f2871d",
      "metadata": {
        "id": "f136168d-2783-4eb7-bad5-4b2836f2871d",
        "outputId": "0243f3e3-5434-4379-8ff4-e827dc1b0e8a"
      },
      "outputs": [
        {
          "data": {
            "text/plain": [
              "Nivel Jerárquico     \n",
              "Profesional              0.510682\n",
              "Ejecutivo                0.137335\n",
              "Desempleado              0.124110\n",
              "Independiente            0.101729\n",
              "Directivo                0.047813\n",
              "No clasificado           0.047813\n",
              "Soporte                  0.017294\n",
              "Jubilado o Pensionado    0.013225\n",
              "Name: proportion, dtype: float64"
            ]
          },
          "execution_count": 56,
          "metadata": {},
          "output_type": "execute_result"
        }
      ],
      "source": [
        "datosArtistas[['Nivel Jerárquico']].value_counts(normalize=True)"
      ]
    },
    {
      "cell_type": "markdown",
      "id": "1463823a-c51a-4e44-9eae-6533da81ae75",
      "metadata": {
        "id": "1463823a-c51a-4e44-9eae-6533da81ae75"
      },
      "source": [
        "## Porcentaje de egresados por género"
      ]
    },
    {
      "cell_type": "code",
      "execution_count": null,
      "id": "4f6cbe2a-3786-439b-9e97-d76e633b59a5",
      "metadata": {
        "id": "4f6cbe2a-3786-439b-9e97-d76e633b59a5",
        "outputId": "f6b92150-e3d9-404a-cac9-049d188a1419"
      },
      "outputs": [
        {
          "data": {
            "text/plain": [
              "Género\n",
              "Femenino     933\n",
              "Masculino    407\n",
              "Name: count, dtype: int64"
            ]
          },
          "execution_count": 57,
          "metadata": {},
          "output_type": "execute_result"
        }
      ],
      "source": [
        "datosArtistas['Género'].value_counts()"
      ]
    },
    {
      "cell_type": "code",
      "execution_count": null,
      "id": "03d9677f-2114-4c2b-9a59-dd182ac2b0bc",
      "metadata": {
        "id": "03d9677f-2114-4c2b-9a59-dd182ac2b0bc",
        "outputId": "3c298f63-4345-47bf-b4f9-bb2d6750e7b8"
      },
      "outputs": [
        {
          "data": {
            "text/plain": [
              "Género\n",
              "Femenino     0.696269\n",
              "Masculino    0.303731\n",
              "Name: proportion, dtype: float64"
            ]
          },
          "execution_count": 58,
          "metadata": {},
          "output_type": "execute_result"
        }
      ],
      "source": [
        "datosArtistas['Género'].value_counts(normalize=True)"
      ]
    },
    {
      "cell_type": "markdown",
      "id": "81798f5c-1f88-4d40-a1ed-6a527179e159",
      "metadata": {
        "id": "81798f5c-1f88-4d40-a1ed-6a527179e159"
      },
      "source": [
        "## Zoom en estas categorías:\n",
        "- Género\n",
        "- Qué están haciendo"
      ]
    },
    {
      "cell_type": "code",
      "execution_count": null,
      "id": "76906a4a-5969-4b8c-8a36-226b2aa78180",
      "metadata": {
        "id": "76906a4a-5969-4b8c-8a36-226b2aa78180",
        "outputId": "efb64895-0eb2-4057-e13e-7d5ab78d3550"
      },
      "outputs": [
        {
          "data": {
            "text/html": [
              "<div>\n",
              "<style scoped>\n",
              "    .dataframe tbody tr th:only-of-type {\n",
              "        vertical-align: middle;\n",
              "    }\n",
              "\n",
              "    .dataframe tbody tr th {\n",
              "        vertical-align: top;\n",
              "    }\n",
              "\n",
              "    .dataframe thead th {\n",
              "        text-align: right;\n",
              "    }\n",
              "</style>\n",
              "<table border=\"1\" class=\"dataframe\">\n",
              "  <thead>\n",
              "    <tr style=\"text-align: right;\">\n",
              "      <th>Género</th>\n",
              "      <th>Femenino</th>\n",
              "      <th>Masculino</th>\n",
              "    </tr>\n",
              "    <tr>\n",
              "      <th>Nivel Jerárquico</th>\n",
              "      <th></th>\n",
              "      <th></th>\n",
              "    </tr>\n",
              "  </thead>\n",
              "  <tbody>\n",
              "    <tr>\n",
              "      <th>Desempleado</th>\n",
              "      <td>0.680328</td>\n",
              "      <td>0.319672</td>\n",
              "    </tr>\n",
              "    <tr>\n",
              "      <th>Directivo</th>\n",
              "      <td>0.808511</td>\n",
              "      <td>0.191489</td>\n",
              "    </tr>\n",
              "    <tr>\n",
              "      <th>Ejecutivo</th>\n",
              "      <td>0.644444</td>\n",
              "      <td>0.355556</td>\n",
              "    </tr>\n",
              "    <tr>\n",
              "      <th>Independiente</th>\n",
              "      <td>0.720000</td>\n",
              "      <td>0.280000</td>\n",
              "    </tr>\n",
              "    <tr>\n",
              "      <th>Jubilado o Pensionado</th>\n",
              "      <td>0.923077</td>\n",
              "      <td>0.076923</td>\n",
              "    </tr>\n",
              "    <tr>\n",
              "      <th>No clasificado</th>\n",
              "      <td>0.617021</td>\n",
              "      <td>0.382979</td>\n",
              "    </tr>\n",
              "    <tr>\n",
              "      <th>Profesional</th>\n",
              "      <td>0.677291</td>\n",
              "      <td>0.322709</td>\n",
              "    </tr>\n",
              "    <tr>\n",
              "      <th>Soporte</th>\n",
              "      <td>0.705882</td>\n",
              "      <td>0.294118</td>\n",
              "    </tr>\n",
              "  </tbody>\n",
              "</table>\n",
              "</div>"
            ],
            "text/plain": [
              "Género                 Femenino  Masculino\n",
              "Nivel Jerárquico                          \n",
              "Desempleado            0.680328   0.319672\n",
              "Directivo              0.808511   0.191489\n",
              "Ejecutivo              0.644444   0.355556\n",
              "Independiente          0.720000   0.280000\n",
              "Jubilado o Pensionado  0.923077   0.076923\n",
              "No clasificado         0.617021   0.382979\n",
              "Profesional            0.677291   0.322709\n",
              "Soporte                0.705882   0.294118"
            ]
          },
          "execution_count": 59,
          "metadata": {},
          "output_type": "execute_result"
        }
      ],
      "source": [
        "pd.crosstab(datosArtistas['Nivel Jerárquico'], datosArtistas['Género'], normalize='index')"
      ]
    },
    {
      "cell_type": "markdown",
      "id": "e59cebda-6bd1-4f74-849b-04289bf53948",
      "metadata": {
        "id": "e59cebda-6bd1-4f74-849b-04289bf53948"
      },
      "source": [
        "**Esto es**: De los egresados, cuál es el procentaje de mujeres vs hombres.\n",
        "\n",
        "**Lo que queremos es:** </br>\n",
        "De las mujeres, cuál es el procentaje de _________ </br>\n",
        "Compararlo contra \"De los hombres, cuál es ese porcentaje de__________\" </br>"
      ]
    },
    {
      "cell_type": "code",
      "execution_count": null,
      "id": "652c128a-4c43-49d8-ac3c-82b4ae6a7613",
      "metadata": {
        "id": "652c128a-4c43-49d8-ac3c-82b4ae6a7613",
        "outputId": "f660d065-1712-4843-f7f7-4a59e13fa3c6"
      },
      "outputs": [
        {
          "name": "stdout",
          "output_type": "stream",
          "text": [
            "(933, 37)\n",
            "(407, 37)\n"
          ]
        }
      ],
      "source": [
        "artistasMujeres = datosArtistas[datosArtistas['Género']=='Femenino']\n",
        "artistasHombres = datosArtistas[datosArtistas['Género']=='Masculino']\n",
        "print(artistasMujeres.shape)\n",
        "print(artistasHombres.shape)"
      ]
    },
    {
      "cell_type": "code",
      "execution_count": null,
      "id": "cfa892f0-6483-433c-a41b-701aa82d070f",
      "metadata": {
        "id": "cfa892f0-6483-433c-a41b-701aa82d070f",
        "outputId": "5123f1db-96a7-4f76-af11-5fa2528a432e"
      },
      "outputs": [
        {
          "data": {
            "text/plain": [
              "Nivel Jerárquico\n",
              "Profesional              50.520059\n",
              "Ejecutivo                12.927192\n",
              "Desempleado              12.332838\n",
              "Independiente            10.698366\n",
              "Directivo                 5.646360\n",
              "No clasificado            4.309064\n",
              "Soporte                   1.783061\n",
              "Jubilado o Pensionado     1.783061\n",
              "Name: proportion, dtype: float64"
            ]
          },
          "execution_count": 61,
          "metadata": {},
          "output_type": "execute_result"
        }
      ],
      "source": [
        "artistasMujeres['Nivel Jerárquico'].value_counts(normalize=True)*100"
      ]
    },
    {
      "cell_type": "code",
      "execution_count": null,
      "id": "da379bff-fc95-4765-bee6-378545820957",
      "metadata": {
        "id": "da379bff-fc95-4765-bee6-378545820957",
        "outputId": "d5ee1534-390d-4b5f-8038-afcebea22750"
      },
      "outputs": [
        {
          "data": {
            "text/plain": [
              "Nivel Jerárquico\n",
              "Profesional              52.258065\n",
              "Ejecutivo                15.483871\n",
              "Desempleado              12.580645\n",
              "Independiente             9.032258\n",
              "No clasificado            5.806452\n",
              "Directivo                 2.903226\n",
              "Soporte                   1.612903\n",
              "Jubilado o Pensionado     0.322581\n",
              "Name: proportion, dtype: float64"
            ]
          },
          "execution_count": 62,
          "metadata": {},
          "output_type": "execute_result"
        }
      ],
      "source": [
        "artistasHombres['Nivel Jerárquico'].value_counts(normalize=True)*100"
      ]
    },
    {
      "cell_type": "markdown",
      "id": "a7371cd7-ae83-4279-ba0b-b72ef5bc33f9",
      "metadata": {
        "id": "a7371cd7-ae83-4279-ba0b-b72ef5bc33f9"
      },
      "source": [
        "**En este momento tenemos** </br>\n",
        "- datosArtistas: filtrando historia del arte </br>\n",
        "- artistasHombres </br>\n",
        "- artistasMujeres"
      ]
    },
    {
      "cell_type": "code",
      "execution_count": null,
      "id": "af76d478-43a4-4157-b0e1-836b2622c51c",
      "metadata": {
        "id": "af76d478-43a4-4157-b0e1-836b2622c51c",
        "outputId": "9c6923cc-921a-48ef-f185-7c42d4ef87a4"
      },
      "outputs": [
        {
          "data": {
            "text/plain": [
              "Cargo\n",
              "INDEPENDIENTE                       98\n",
              "DESEMPLEADO                         91\n",
              "DOCENTE                             54\n",
              "ARTISTA                             49\n",
              "ESTUDIANTE                          26\n",
              "                                    ..\n",
              "CONSULTORA EN PEDAGOGIA Y GENERO     1\n",
              "INSTRUCTORA ARTISTA                  1\n",
              "ELEMENTARY ART TEACHER               1\n",
              "PROFESIONAL PEDAGOGICA               1\n",
              "DIRECTORA ACADEMICA                  1\n",
              "Name: count, Length: 506, dtype: int64"
            ]
          },
          "execution_count": 63,
          "metadata": {},
          "output_type": "execute_result"
        }
      ],
      "source": [
        "datosArtistas['Cargo'].value_counts()"
      ]
    },
    {
      "cell_type": "code",
      "execution_count": null,
      "id": "f069bacd-cd3f-4905-80b0-3f0b578809c3",
      "metadata": {
        "id": "f069bacd-cd3f-4905-80b0-3f0b578809c3",
        "outputId": "0b53e72f-e44c-44d4-cff3-9a82b03150a7"
      },
      "outputs": [
        {
          "data": {
            "text/plain": [
              "Sector\n",
              "No identificado                                                                                618\n",
              "V- OTROS                                                                                       423\n",
              "P -EDUCACIÓN                                                                                    84\n",
              "M -ACTIVIDADES PROFESIONALES, CIENTÍFICAS Y TÉCNICAS                                            39\n",
              "J -INFORMACIÓN Y COMUNICACIONES                                                                 30\n",
              "G -COMERCIO AL POR MAYOR Y AL POR MENOR; REPARACIÓN DE VEHÍCULOS AUTOMOTORES Y MOTOCICLETAS     27\n",
              "R -ACTIVIDADES ARTÍSTICAS, DE ENTRETENIMIENTO Y RECREACIÓN                                      27\n",
              "C -INDUSTRIAS MANUFACTURERAS                                                                    15\n",
              "K -ACTIVIDADES FINANCIERAS Y DE SEGUROS                                                         13\n",
              "S -OTRAS ACTIVIDADES DE SERVICIOS                                                               12\n",
              "O -ADMINISTRACIÓN PÚBLICA Y DEFENSA; PLANES DE SEGURIDAD SOCIAL DE AFILIACIÓN OBLIGATORIA       12\n",
              "N -ACTIVIDADES DE SERVICIOS ADMINISTRATIVOS Y DE APOYO                                          12\n",
              "L -ACTIVIDADES INMOBILIARIAS                                                                     7\n",
              "F -CONSTRUCCIÓN                                                                                  6\n",
              "A -AGRICULTURA, GANADERÍA, CAZA, SILVICULTURA Y PESCA                                            4\n",
              "I -ALOJAMIENTO Y SERVICIOS DE COMIDA                                                             3\n",
              "H -TRANSPORTE Y ALMACENAMIENTO                                                                   3\n",
              "U -ACTIVIDADES DE ORGANIZACIONES Y ENTIDADES EXTRATERRITORIALES                                  3\n",
              "Q -ACTIVIDADES DE ATENCIÓN DE LA SALUD HUMANA Y DE ASISTENCIA SOCIAL                             2\n",
              "Name: count, dtype: int64"
            ]
          },
          "execution_count": 64,
          "metadata": {},
          "output_type": "execute_result"
        }
      ],
      "source": [
        "datosArtistas['Sector'].value_counts()"
      ]
    },
    {
      "cell_type": "markdown",
      "id": "3dd0dcb4-8da7-4eef-93e4-5d65a79586c8",
      "metadata": {
        "id": "3dd0dcb4-8da7-4eef-93e4-5d65a79586c8"
      },
      "source": [
        "**Nos interesan** </br>\n",
        "R -ACTIVIDADES ARTÍSTICAS, DE ENTRETENIMIENTO Y RECREACIÓN </br>\n",
        "V- OTROS"
      ]
    },
    {
      "cell_type": "code",
      "execution_count": null,
      "id": "cf5b131b-a70f-4d36-a2d8-5567c2bad0bf",
      "metadata": {
        "id": "cf5b131b-a70f-4d36-a2d8-5567c2bad0bf"
      },
      "outputs": [],
      "source": [
        "def verNivelesJerarquicosDelSector(pSector):\n",
        "    print('En el sector: ', pSector)\n",
        "    print('Hombres:')\n",
        "    print('')\n",
        "    artistasHombresDelSector = artistasHombres[artistasHombres['Sector'] == pSector]\n",
        "    print('Artistas hombres del sector', artistasHombresDelSector.shape)\n",
        "    display(artistasHombresDelSector['Nivel Jerárquico'].value_counts(normalize=True)*100)\n",
        "    print('')\n",
        "    print('Mujeres:')\n",
        "    print('')\n",
        "    artistasMujeresDelSector = artistasMujeres[artistasMujeres['Sector'] == pSector]\n",
        "    print('Artistas mujeres del sector', artistasMujeresDelSector.shape)\n",
        "    display(artistasMujeresDelSector['Nivel Jerárquico'].value_counts(normalize=True)*100)"
      ]
    },
    {
      "cell_type": "code",
      "execution_count": null,
      "id": "dc963c78-b373-469e-af0d-a411fff8a808",
      "metadata": {
        "id": "dc963c78-b373-469e-af0d-a411fff8a808",
        "outputId": "ef5f2c7c-3be8-43e2-d2b7-8a3f42e1ab62"
      },
      "outputs": [
        {
          "name": "stdout",
          "output_type": "stream",
          "text": [
            "En el sector:  R -ACTIVIDADES ARTÍSTICAS, DE ENTRETENIMIENTO Y RECREACIÓN\n",
            "Hombres:\n",
            "\n",
            "Artistas hombres del sector (8, 37)\n"
          ]
        },
        {
          "data": {
            "text/plain": [
              "Nivel Jerárquico\n",
              "Directivo         37.5\n",
              "Profesional       25.0\n",
              "Ejecutivo         12.5\n",
              "No clasificado    12.5\n",
              "Soporte           12.5\n",
              "Name: proportion, dtype: float64"
            ]
          },
          "metadata": {},
          "output_type": "display_data"
        },
        {
          "name": "stdout",
          "output_type": "stream",
          "text": [
            "\n",
            "Mujeres:\n",
            "\n",
            "Artistas mujeres del sector (19, 37)\n"
          ]
        },
        {
          "data": {
            "text/plain": [
              "Nivel Jerárquico\n",
              "Profesional       68.421053\n",
              "Ejecutivo         21.052632\n",
              "No clasificado     5.263158\n",
              "Soporte            5.263158\n",
              "Name: proportion, dtype: float64"
            ]
          },
          "metadata": {},
          "output_type": "display_data"
        }
      ],
      "source": [
        "verNivelesJerarquicosDelSector('R -ACTIVIDADES ARTÍSTICAS, DE ENTRETENIMIENTO Y RECREACIÓN')"
      ]
    },
    {
      "cell_type": "markdown",
      "id": "81a36927-108f-4ef3-872e-929db151b09e",
      "metadata": {
        "id": "81a36927-108f-4ef3-872e-929db151b09e"
      },
      "source": [
        "## Tratando de identificar a los egresados/as que se dedican al arte"
      ]
    },
    {
      "cell_type": "code",
      "execution_count": null,
      "id": "e0a5baee-203f-44aa-aab9-2f9795722ba3",
      "metadata": {
        "scrolled": true,
        "id": "e0a5baee-203f-44aa-aab9-2f9795722ba3",
        "outputId": "1a80c9d8-65d3-44c7-d01e-d9eb46a44afc"
      },
      "outputs": [
        {
          "name": "stdout",
          "output_type": "stream",
          "text": [
            "INDEPENDIENTE\n",
            "DESEMPLEADO\n",
            "DOCENTE\n",
            "ARTISTA\n",
            "ESTUDIANTE\n",
            "GERENTE\n",
            "NO DISPONIBLE\n",
            "AFILIACIONES\n",
            "PENSIONADO\n",
            "ARTISTA PLASTICA\n",
            "GERENTE GENERAL\n",
            "PROFESORA\n",
            "PROFESOR\n",
            "ARTISTA PLASTICO\n",
            "CONTRATISTA\n",
            "PROFESIONAL\n",
            "DOCENTE DE ARTES\n",
            "FUNDADORA\n",
            "PENSIONADA\n",
            "DUEÑA\n",
            "DIRECTORA\n",
            "PROFESORA ASOCIADA\n",
            "DISEÑADOR\n",
            "DIRECTOR CREATIVO\n",
            "DESEMPLEADA\n",
            "ASISTENTE\n",
            "FUNDADOR\n",
            "DIRECTORA CREATIVA\n",
            "DISEÑADORA\n",
            "DISEÑADORA GRAFICA\n",
            "PINTOR\n",
            "TEACHER\n",
            "COORDINADOR\n",
            "ASISTENTE DE DIRECCION\n",
            "ARQUITECTO\n",
            "ARTES\n",
            "PROGRAM MANAGER\n",
            "ASESORA\n",
            "TALLERISTA\n",
            "GALLERY ASSISTANT\n",
            "OWNER\n",
            "ILUSTRADOR\n",
            "GUIONISTA\n",
            "DIRECTORA DE ARTE\n",
            "ASISTENTE ADMINISTRATIVO\n",
            "PROFESORA DE ARTE\n",
            "COFUNDADORA\n",
            "COMERCIAL\n",
            "EDITORA\n",
            "AGENTE BILINGUE\n",
            "AGENTE CALL CENTER\n",
            "ADJUNCT PROFESSOR\n",
            "TRADUCTOR\n",
            "PROPIETARIA\n",
            "COMMUNICATIONS MANAGER\n",
            "ARTISTA VISUAL\n",
            "DOCENTE DE ARTE\n",
            "DOCENTE DE CATEDRA\n",
            "DIRECTOR\n",
            "FULL STACK ENGINEER\n",
            "DIRECTOR DE ARTES VISUALES QIBAO DWIGHT HIGH SCHOOL\n",
            "VISUAL ARTIST\n",
            "GRAPHIC DESIGN ARTIST\n",
            "DEVELOPER JUNIOR\n",
            "ARQUITECTO PROYECTISTA\n",
            "CAREER AND ALUMNI SUCCESS ADVISER\n",
            "EXPERIENTIAL DEVELOPER\n",
            "DIRECTOR Y PRODUCTOR\n",
            "DISEÑADORA DE SERVICIOS\n",
            "ANIMADORA DISEÑADORA GRAFICA\n",
            "ASISTENTE VIRTUAL\n",
            "COMERCIANTE\n",
            "ILUSTRACION TEXTIL\n",
            "CO FOUNDER\n",
            "GERENTE DE PROYECTO\n",
            "UI DEVELOPER\n",
            "DIRECTORA DE EXPERIENCIAS\n",
            "ESCRITORA DISEÑADORA DE MODAS\n",
            "PROFESORA ASISTENTE\n",
            "CREATIVE DIRECTOR\n",
            "DEPARTAMENTO DE TECNOLOGIA\n",
            "FACILITADOR DE PROCESOS RESTAURATIVOS\n",
            "ACTRIZ DE PLANTA\n",
            "ART EDUCATOR\n",
            "ASESOR DE MARKETING Y FOTOGRAFO\n",
            "LIDER DE GRUPO OSCAE\n",
            "ASISTENTE CREATIVA\n",
            "ANIMACION 2D\n",
            "DISEÑADORA & ESTRATEGA\n",
            "ASESOR DE SERVICIO AL CLIENTE\n",
            "PINTOR PRESTADOR DE SERVCIOS\n",
            "QA ANALYST SENIOR ADVANCED\n",
            "SUBGERENTE\n",
            "ASESOR\n",
            "AMBIENTADORA\n",
            "ARTISTA E INVESTIGADORA INDEPENDIENTE\n",
            "GALLERY EDUCATOR\n",
            "JEFE DE PRODUCCION EN CUNICULO LOS ALISOS\n",
            "GERENTE DE ARTES PLASTICAS Y VISUALES\n",
            "ARTE Y DISEÑO\n",
            "ASISTENTE PREESCOLAR\n",
            "PROFESORA DE CATEDRA\n",
            "ASSISTANT PROFESSOR OF ELEMENTARY Y LITERACY EDUCATION\n",
            "CURATOR AND ART MANGER\n",
            "CONSULTOR\n",
            "SOCIAL MEDIA CONTENT CREATOR\n",
            "BILINGUAL VISUAL ARTS EDUCATOR\n",
            "AGENTE DE CALL CENTER\n",
            "ASESOR DE VENTAS\n",
            "PROFESSIONELLE FOTOGRAFIN\n",
            "PROFESOR CATEDRA\n",
            "MARKETING DIGITAL\n",
            "CONSULTOR DE PROYECTOS CULTURALES EN REGIONES DE COLOMBIA\n",
            "COORDINADORA DE RESIDENCIAS\n",
            "ARTIST PHOTOGRAPHER\n",
            "GRADUATE RESEARCHER\n",
            "INTEGRATION MANAGER\n",
            "GRAPHIC DESIGNER\n",
            "ASISTENTE DE BIBLIOTECA\n",
            "ABOGADA\n",
            "MANAGER\n",
            "PROFESOR ASISTENTE\n",
            "DOCENTE INVESTIGADOR\n",
            "PSICOLOGA\n",
            "FABRIC DESIGNER FOR HOME TEXTILES\n",
            "DECORADORA DE INTERIORES\n",
            "FOTOGRAFO\n",
            "DIRECTORA EJECUTIVA\n",
            "DIRECTOR OF RISK MANAGEMENT INTERNATIONAL OPERATIONS\n",
            "RESEARCH CURATOR\n",
            "DIRECTOR OF TECHNOLOGY\n",
            "ARTISTA JOYERIA CONTEMPORANEA\n",
            "DIRECTOR ACADEMICO\n",
            "TEACHING ARTIST\n",
            "ASSISTANT PROFESSOR\n",
            "DIRECTOR DE BARRIO ABAJO CENTRO DE CREACION CONTEMPORANEA\n",
            "DOCENTE DEPARTAMENTO DE ARTES VISUALES\n",
            "CO DIRECTORA\n",
            "JEFE DE UTILERIA\n",
            "INSTRUCTIONAL LEAD FOR THE ENCORE TEAM ART DRAMA MUSIC PE & HUNGARIAN CULTURE\n",
            "ANIMADORA 3D\n",
            "ASOCIADO\n",
            "AUXILIAR CONTABLE\n",
            "CURATOR\n",
            "PRODUCT OWNER\n",
            "DIRECTORA OBRA GRAFICA Y MOBILIARIO\n",
            "ARTISTA Y DISEÑADORA\n",
            "FRONT DESK VOLUNTEER\n",
            "COLECTIVO DE ARTE\n",
            "DIRECTORA CENTRO DE ESTUDIOS EN ARTE\n",
            "EDUCACION COMUNITARIA\n",
            "COORDINADORA DE EXHIBICIONES\n",
            "EDUCATION MENTOR\n",
            "ASSISTANT VICE PRESIDENT\n",
            "ANFITRION\n",
            "PROFESIONAL DE APOYO DIRECTO\n",
            "CURADOR ADJUNTO DE ARTE LATINOAMERICANO\n",
            "PRODUCTOR CREATIVO\n",
            "FAIRS AND EXHIBITION MANAGER\n",
            "LIDER DE PRODUCTOS Y SERVICIOS\n",
            "DIRECTOR DE PROYECTOS\n",
            "DIRECTOR EJECUTIVO\n",
            "INVESTIGADOR EN ARTES Y HUMANIDAD\n",
            "COORDINADORA EDUCATIVA MUSEO MAPUKA\n",
            "DIVEMASTER\n",
            "HEAD OF STUDIO VFX SUPERVISOR\n",
            "DIRECTOR DE ARTE\n",
            "ASSOCIATE DIRECTOR OF PROGRAMMING AND COMMUNICATIONS\n",
            "EDITOR ANIMADOR DE VIDEO\n",
            "PRODUCTION COORDINATOR\n",
            "DIRECTOR DE PROGRAMA\n",
            "LOCUTOR\n",
            "JEFE GESTION CULTURAL\n",
            "COORDINADORA DE ESTUDIOS INTERCULTURALES\n",
            "DESARROLLADOR\n",
            "LECTURER IN LATIN AMERICAN PERFORMANCE CULTURES\n",
            "ARTISTIC DIRECTOR\n",
            "PERFORMANCE WORKSHOP\n",
            "SOCIA\n",
            "PRODUCTOR MUSICAL\n",
            "PROFESIONAL ESPECIALIZADO\n",
            "ADMINISTRADORA\n",
            "JK TEACHER\n",
            "DOCTORADO EN HISTORIA\n",
            "PROFESOR DE CATEDRA\n",
            "ESCULTOR\n",
            "COORDINADOR DE PRACTICAS PROFESIONALES\n",
            "DIRECTORA GENERAL PROPIETARIA Y CREATIVA DE EPIDERMIS Y QORI\n",
            "GERENTE ADMINISTRATIVA\n",
            "COORDINADOR PROYECTO FUNDACION GATES\n",
            "INSTRUCTOR LIDER DE INVESTIGACION PEDAGOGICO\n",
            "DIRECTORA DEPARTAMENTO\n",
            "LEAD SERVICE DESIGNER\n",
            "PROFESOR ASOCIADO\n",
            "RESEARCH ASSISTANT\n",
            "DIRECTORA Y FUNDADORA\n",
            "COFUNDADOR\n",
            "FREELANCE\n",
            "JEFE DE VENTAS E HIPOTECAS\n",
            "JEFE DE ARTES VISUALES\n",
            "DIRECTORA DE PROYECTO\n",
            "CHEESEMAKER\n",
            "FOUNDER\n",
            "ANIMATOR TRANSLATOR WRITER ARTIST\n",
            "ART TEACHER\n",
            "DOCENTE DE PLANTA ASOCIADA\n",
            "CORPORATE FINANCE MANAGER\n",
            "SENIOR VISUAL DESIGNER\n",
            "DIRECTOR ENTREPRENEUR ARTIST TEACHER\n",
            "DOCENTE TEMPORAL ACADEMIA SUPERIOR DE ARTES DE BOGOTA\n",
            "DIRECTORA DE CINE ARTE\n",
            "DIRECTORA DE ARTE Y DISEÑADORA GRAFICA\n",
            "ARTISTA  PINTOR\n",
            "DIRECTIVO\n",
            "DIRECTORA DE GASTRONOMIA\n",
            "JEFE DE REDACCION\n",
            "DIRECTOR DE ARTE VISUAL\n",
            "COMMUNICATIONS DIRECTOR\n",
            "DISEÑADORA PAISAJISTA\n",
            "ASESOR DE PROYECTOS\n",
            "SENIOR MEDIA ASSOCIATE\n",
            "VICEPRESIDENTE OF ENGINEERING\n",
            "ESCRITOR\n",
            "CATEDRA DE INGLES ARTES\n",
            "FREELANCE DIRECTOR CREATIVO Y DISEÑADOR VISUAL\n",
            "ASISTENTE EDITORIAL\n",
            "DISEÑO Y CONFECCION\n",
            "JEFE DE COMPRAS\n",
            "GRAPHIC ARTIS AND ILLUSTRATOR\n",
            "REGIONAL PEOPLE OPERATIONS SENIOR PROJECT MANAGER\n",
            "BACTERIOLOGA\n",
            "ARTIST EDUCATOR\n",
            "MAESTRO EN ARTES\n",
            "LECTURER\n",
            "DIRECTORA DE INNOVACION\n",
            "DIRECTOR DE PROGRAMAS AUXILIARES\n",
            "OFICIAL PROFESIONAL DE TRANSITO\n",
            "SERVICIO CULTURAL\n",
            "DIRECTOR PRODUCCION\n",
            "ASESORA DE IMAGEN\n",
            "DOCENTE DE ARTES BILINGUE\n",
            "HISTORIADORA DE ARTE\n",
            "FREELANCE SPANISH INTERPRETER\n",
            "GARDEROBIERE\n",
            "ADMINISTRATIVO\n",
            "CURADOR\n",
            "ASESOR DE ARTE\n",
            "HUMAN RESOURCES DIRECTOR\n",
            "CX AND STRATEGY VP\n",
            "HEAD DESIGN MANAGER FOR PBTEEN\n",
            "VIDEO EDITOR\n",
            "ART HANDLING DIRECTOR\n",
            "GETTY FOUNDATION GRANTS ADMINISTRATION\n",
            "SENIOR PRODUCT DESIGNER\n",
            "TRADE MARKETING MANAGER\n",
            "COORDINADOR PROFESOR DEPARTAMENTO ARTES VISUALES\n",
            "SENIOR MANAGER OF CONSUMER DEPOSIT ACCESS PRODUCTS LATIN AMERICA AND CARIBBEAN\n",
            "INDEPENDENT RESEARCHER\n",
            "ARTIST\n",
            "NET COORDINATOR\n",
            "VIDEO Y XR DIRECTOR CREATIVE\n",
            "GERENTE CREATIVA\n",
            "DOCENTE DE ARTES VISUALES\n",
            "CUSTOMER SUCCESS COORDINATOR\n",
            "CO FUNDADORA\n",
            "DIRECTOR DE COMUNICACION\n",
            "PROPIETARIA Y ARTISTA EMPRESA PROYECTO ORNAMENTO JOYERIA\n",
            "GESTION Y BARISTA\n",
            "PRODUCTION ASSISTANT\n",
            "COORDINADOR REGIONAL CHOCO\n",
            "ARTISTA PLASTICO PROFESIONAL\n",
            "GERENTE DE TECNOLOGIA\n",
            "ESTRATEGA DE MEDIOS SOCIALES\n",
            "COORDINADORA DE COMUNICACIONES Y MERCADEO\n",
            "HEAD OF GLOBAL VISUAL WOMENSWEAR\n",
            "DIRECTORA DE BACHILLERATO\n",
            "DIRECTORA DESARROLLO PEDAGOGICO Y FORMACION\n",
            "FUNDADORA Y DOCENTE\n",
            "COMUNICADORA\n",
            "PROFESIONAL JUNIOR\n",
            "COORDINADORA DEL COMPONENTE DE CIRCULACION Y FORMACION ARTBO\n",
            "JEFE DE PRODUCCION\n",
            "COORDINADORA DE EDUCACION Y PROGRAMAS PUBLICOS HEAD OF EDUCATION AND PUBLIC PROGRAMS\n",
            "CREATIVE DIRECTOR & CO FOUNDER\n",
            "TERAPEUTA DE ARTES EXPRESIVAS\n",
            "FULL STACK DEVELOPER\n",
            "ILLUSTRATOR\n",
            "GERENTE ARTISTICO\n",
            "ASSOCIATE PARTNER\n",
            "DIRECTOR AUDIOVISUAL\n",
            "EDITOR DE VIDEO\n",
            "DISEÑADOR E INVESTIGADOR\n",
            "JEFE DE DISEÑO\n",
            "ASISTENTE POSDOCTORAL\n",
            "COUNTRY MANAGER COLOMBIA\n",
            "DIRECTORA DE LA FERIA\n",
            "ART AND CULTURE COORDINATOR\n",
            "ANALISTA EXPERTO DE DISEÑO DE PRODUCTO\n",
            "FOTOGRAFA Y DISEÑADORA GRAFICA\n",
            "SENIOR CREATIVE\n",
            "ILUSTRADORA\n",
            "GERENTE DE ARTES\n",
            "MUSIC PARTNERSHIPS AND PRODUCTION\n",
            "CORRECTOR DE TEXTOS EDICION DE VIDEO\n",
            "COMISARIO ARQUITECTURA VIVA\n",
            "INVESTIGADOR\n",
            "DIBUJANTE\n",
            "GENERAL LEGAL COUNSEL BBVA VALORES\n",
            "PROFESOR BILINGUE DE AUDIOVISUAL\n",
            "GERENTE AREA COMERCIAL\n",
            "MENTORA\n",
            "ENCARGADA DE VENTAS\n",
            "DIRECTOR CICLO NODO X\n",
            "ASSOCIATE PROFESSOR\n",
            "ARTISTA Y ESCRITOR\n",
            "WORLDWIDE VISUAL MERCHANDISER\n",
            "MEDIOS AUDIOVISUALES\n",
            "PAISAJISMO\n",
            "GERENTE ASISTENTE\n",
            "DIRECTOR Y GESTOR CULTURAL\n",
            "EXHIBITION COORDINATOR AND REGISTRAR\n",
            "MAESTRO EN ARTE\n",
            "ASISTENTE ADMINISTRATIVA DE EDITORIAL\n",
            "UX DESIGNER\n",
            "DIRECTOR GENERAL\n",
            "DIRECTORA SENIOR\n",
            "PSICOTERAUPETA DEL ARTE PROFESORA ARTISTA\n",
            "TEACHER ASSISTANT\n",
            "INSTRUCTURA DE ARTES PLASTICAS\n",
            "ANALISTA DE CALIDAD\n",
            "ASISTENTE DE AGRICULTURA DE PRECISION\n",
            "ARTISTA ANIMADORA\n",
            "GUIA TURISTICA\n",
            "DESIGNER\n",
            "COORDINADORA PROYECTOS\n",
            "DIGITAL AND SOCIAL MEDIA CONTENT ASSISTANT\n",
            "ASSISTANT REGISTRAR\n",
            "FACULTY\n",
            "EXPIRIAN ESPECIALITY\n",
            "COMMUNITY ASSOCIATE\n",
            "ARCHITECT\n",
            "COMMUNITY ORGANIZER\n",
            "ASESORA DE PLATAFORMA COMERCIAL\n",
            "MASTER STUDENT\n",
            "ILUSTRADORA INFANTIL\n",
            "ARQUITECTO SENIOR\n",
            "ARTISTA DOCENTE\n",
            "COORDINADORA DE PROGRAMA DOCTORADO\n",
            "TEACHING ASSISTANT\n",
            "EXECUTIVE ASSISTANT TO THE DIRECTOR\n",
            "AREA MANAGER OPERATIONS ROBOTICS STORAGE PLATFORM\n",
            "ANALISTA\n",
            "ASSOCIATE MEDIA ACTIVATION MANAGER\n",
            "ASESORA DE CALL CENTER\n",
            "CULTURE AND EMPLOYEE BRANDING EXPERT\n",
            "ARTISTA PLASTICA Y BAILARINA\n",
            "ASISTENTE DE PROYECTOS\n",
            "COVID 19 SUPPORT SPECIALIST\n",
            "INGENIERO\n",
            "CONTENT PRODUCER\n",
            "MAESTRA EN ARTE CONCENTRACION PROYECTOS CULTURALES\n",
            "PINTORA E HISTORIADORA\n",
            "PIANISTA Y PINTORA\n",
            "UNDERWRITING ASSOCIATE\n",
            "CONSULTORA SENIOR\n",
            "ANIMADORA\n",
            "ASISTENTE OCURADORA\n",
            "DISEÑADOR GRAFICO\n",
            "PROPIETARIO\n",
            "ENCARGADA DE PROYECTOS\n",
            "ADMINISTRADOR\n",
            "PRODUCTOR TECNICO\n",
            "AUDITORA\n",
            "DOCENTE FOTOGRAFA Y DISEÑADORA\n",
            "ASESOR DE COBRANZA\n",
            "TALLERISTA ASISTENTE DE PROYECTO\n",
            "ASISTENTE DE GERENCIA\n",
            "ANIMADOR PRINCIPAL\n",
            "COOFUNDADORA DE PROYECTOS CULTURALES\n",
            "NUTRICION\n",
            "DESIGN LEAD\n",
            "ASESORA MUNICIPAL\n",
            "GESTORA EDITORIAL\n",
            "SENIOR DESIGNER\n",
            "ASESORA DE DISEÑO\n",
            "MAESTRO DE ARTES\n",
            "DOCENTE DE CATEDRA LECTURER\n",
            "RECURSOS HUMANOS\n",
            "TEACHER MANAGER\n",
            "ONLINE EDITOR\n",
            "AUDIOVISUAL\n",
            "UNIVERSAL PRE K SUMMER INTERNSHIP\n",
            "DIRECTORA COMERCIAL Y DE MERCADEO\n",
            "GERENTE DE INTERACCIONES DE VALOR\n",
            "ANIMADOR PEDAGOGICO\n",
            "FOTOGRAFA Y EDITORA\n",
            "FACILITADOR DE ARTE\n",
            "SUPERVISIORA DE CRIP AP Y COLOR\n",
            "ARTISTA DISEÑADOR\n",
            "BRAND MANAGER\n",
            "FORTALECIMIENTO EMPRESARIAL\n",
            "SELF EMPLOYED\n",
            "EQUIPO DE APOYO\n",
            "JEFE DE OBRA DE PAISAJE\n",
            "SUPERVISOR DE ESTRUCTURA\n",
            "MANEJO DE REDES SOCIALES E ILUSTRADORA\n",
            "DIRECTOR AGUILAS Y MOSCAS\n",
            "PROFESSIONAL DESIGNER\n",
            "BIKE DOCTOR\n",
            "DIRECCION DE IMAGEN Y COMUNICACION\n",
            "WEBMASTER\n",
            "ASISTENTE SENIOR DE PROYECTO\n",
            "PROFESIONAL DISEÑO SENIOR\n",
            "SOCIAL MEDIA AGENT\n",
            "ARQUITECTA\n",
            "COMPOSITION ARTIST\n",
            "CHIEF EXECUTIVE OFFICER\n",
            "PRODUCTORA GESTORA CULTURA\n",
            "EDITORA WEB\n",
            "ACCOUNT MANAGER\n",
            "ASISTENDE DE CURADURIA\n",
            "JEFE UNIDAD ADMINISTRATIVA Y FINANCIERA\n",
            "ORFEBRE\n",
            "DESIGN LEADER\n",
            "DIRECTOR DE RELACIONAMIENTO Y ESTRATEGIA\n",
            "DESARROLLADOR DE JUEGOS\n",
            "COORDINADORA ESTRATEGICA\n",
            "TECNICO DIAPOTECA\n",
            "GERENTE DE PRODUCCION\n",
            "PROFESOR VISITANTE\n",
            "COMMUNITY MANAGER TIKTOK\n",
            "COORDINADOR DE COMUNICACIONES\n",
            "ARTE Y ENTRETENIMIENTO\n",
            "DIRECCION PROYECTOS ESPECIALES\n",
            "DISEÑADOR PROTESIS\n",
            "SENIOR PROJECT MANAGER\n",
            "COMPLIANCE CONTENT MODERATOR\n",
            "COORDINADORA DE PROYECTOS\n",
            "FUNDADORA Y REPRESENTANTE LEGAL\n",
            "PRODUCTOR\n",
            "JUNIOR SOFTWARE ENGINEER\n",
            "ASISTENTE DE VESTUARIO\n",
            "GESTOR DE CONTENIDOS DIGITALES\n",
            "PHOTOGRAPHER\n",
            "AGENTE\n",
            "COORDINADORA FOTOGRAFICA\n",
            "PROFESIONAL LIDER DE LA UNIDAD DE GESTION DE LA RED CULTURAL\n",
            "ASISTENTE DE PRODUCCION\n",
            "DIRECTOR DEL AREA DE COMUNICACIONES\n",
            "COORDINADOR DE PROYECTOS Y RELACIONES INTERNACIONALES\n",
            "MAESTRO\n",
            "DISEÑADORA DE MODAS\n",
            "GESTORA MOVILIDAD\n",
            "TEAM MANAGER\n",
            "FOTOGRAFA\n",
            "PRINCIPLES OF VISUAL DESIGN INSTRUCTOR OF RECORD\n",
            "INTERPRETE PERMANENTE\n",
            "SALES DEVELOPMENT REPRESENTATIVE\n",
            "OFFICE SUPPORT ASSISTANT\n",
            "ASESOR DIRECCION ASUNTOS CULTURALES\n",
            "VISUAL DESIGNER\n",
            "RESEARCH ENGINEER\n",
            "TECNICO\n",
            "CONCEPT ARTIST\n",
            "JUNIOR DESIGNER\n",
            "DOCENTE CATEDRA ESPECIALIZACION LITERATURA INFANTIL Y JUVENIL\n",
            "COMUNICADOR CREATIVO\n",
            "DOCENTE DE ARTE DE PRIMARIA\n",
            "COMMUNITY PRODUCT MANAGER\n",
            "SUBDIRECCION DE INFRAESTRUCTURA\n",
            "PRODUCTORA DE CAMPO DEL CENTRO NACIONAL DE ARTES\n",
            "DIRECTORA DE MARKETING\n",
            "CONSULTORA JUNIOR\n",
            "SELECTION COMMITTEE REGIONAL SHORT FILM\n",
            "ENVIRONMENT ARTIST\n",
            "DIRECTOR DE CINE Y FOTOGRAFIA\n",
            "DIRECTORA DE SERVICIOS ARTISTICOS\n",
            "DESIGN FELLOW\n",
            "DIGITAL PROJECTS ASSISTANT\n",
            "ART ADVISOR\n",
            "CONSTRUCCION DE VIDEO\n",
            "GESTOR CULTURAL\n",
            "ASOCIADA DE VENTAS\n",
            "DIRECTORA DE CINE\n",
            "ASISTENTE ADMINISTRATIVA\n",
            "GASTRONOMIA\n",
            "GRADUATE STUDENT\n",
            "DIRECTORA ADMINISTRATIVA\n",
            "CREATIVO\n",
            "LEAD LIGHTING TD\n",
            "IN HOUSE PRODUCTION CHIEF\n",
            "CERAMISTA\n",
            "COUNSIL LEADER\n",
            "DIRECTOR DE PROYECTO\n",
            "DIRECTOR OF PROJECTS\n",
            "PROFESIONAL CONSERVACION\n",
            "PROFESOR DE HISTORIA DEL ARTE\n",
            "CREADOR DE CONTENIDO\n",
            "COCINERO\n",
            "DISEÃ?ADOR DE PERSONAJES Y ESCENARIOS\n",
            "COORDINADORA DE AREA DE ARTES\n",
            "CONSULTORA EN PEDAGOGIA Y GENERO\n",
            "INSTRUCTORA ARTISTA\n",
            "ELEMENTARY ART TEACHER\n",
            "PROFESIONAL PEDAGOGICA\n",
            "DIRECTORA ACADEMICA\n"
          ]
        }
      ],
      "source": [
        "for etiqueta in datosArtistas['Cargo'].value_counts().index:\n",
        "    print(etiqueta)"
      ]
    },
    {
      "cell_type": "code",
      "execution_count": null,
      "id": "9b224300-ffff-4dac-9878-1f9fca9b8c6f",
      "metadata": {
        "id": "9b224300-ffff-4dac-9878-1f9fca9b8c6f"
      },
      "outputs": [],
      "source": [
        "etiquetaDeArtista = [\n",
        "    'INDEPENDIENTE',\n",
        "    'ARTISTA',\n",
        "    'ARTISTA PLASTICA',\n",
        "    'ARTISTA PLASTICO',\n",
        "    'PINTOR',\n",
        "    'ARTISTA VISUAL',\n",
        "    'ARTES',\n",
        "    'PINTORA E HISTORIADORA',\n",
        "    'PIANISTA Y PINTORA',\n",
        "    'ARTISTA DOCENTE',\n",
        "    'DOCENTE FOTOGRAFA Y DISEÑADORA',\n",
        "    'ARTISTA PLASTICA Y BAILARINA',\n",
        "    'DIBUJANTE',\n",
        "    'FOTOGRAFA Y DISEÑADORA GRAFICA',\n",
        "    'ARTISTA Y ESCRITOR',\n",
        "    'MAESTRO EN ARTE',\n",
        "    'MAESTRO DE ARTES',\n",
        "    'PINTOR PRESTADOR DE SERVCIOS',\n",
        "    'PHOTOGRAPHER',\n",
        "    'CONCEPT ARTIST',\n",
        "    'FOTOGRAFA',\n",
        "    'FOTOGRAFA',\n",
        "    'FOTOGRAFA Y EDITORA',\n",
        "    'ORFEBRE',\n",
        "    'ARTISTA JOYERIA CONTEMPORANEA',\n",
        "    'FOTOGRAFO',\n",
        "    'ARTIST PHOTOGRAPHER',\n",
        "    'PROFESSIONELLE FOTOGRAFIN',\n",
        "    'ARTISTA Y DISEÑADORA',\n",
        "    'VISUAL ARTIST',\n",
        "    'CERAMISTA',\n",
        "    'ARTE Y DISEÑO',\n",
        "    'ARTISTA E INVESTIGADORA INDEPENDIENTE',\n",
        "    'ARTISTA PLASTICO PROFESIONAL',\n",
        "    'PROPIETARIA Y ARTISTA EMPRESA PROYECTO ORNAMENTO JOYERIA',\n",
        "    'ARTIST',\n",
        "    'ESCULTOR',\n",
        "    'ARTISTA  PINTOR'\n",
        "]"
      ]
    },
    {
      "cell_type": "code",
      "execution_count": null,
      "id": "54488d71-59e6-4897-aa55-c1c5687aade3",
      "metadata": {
        "id": "54488d71-59e6-4897-aa55-c1c5687aade3"
      },
      "outputs": [],
      "source": [
        "datosArtistas['Práctica de arte'] = 0\n",
        "for etiqueta in etiquetaDeArtista:\n",
        "    datosArtistas.loc[datosArtistas['Cargo'] == etiqueta, 'Práctica de arte'] = 1"
      ]
    },
    {
      "cell_type": "markdown",
      "id": "7196baf0-9a18-47db-a084-a938d5b603da",
      "metadata": {
        "id": "7196baf0-9a18-47db-a084-a938d5b603da"
      },
      "source": [
        "### Base de artistasActivos por Cargo"
      ]
    },
    {
      "cell_type": "code",
      "execution_count": null,
      "id": "34edab0a-16fb-438c-9710-70c77a9946b6",
      "metadata": {
        "id": "34edab0a-16fb-438c-9710-70c77a9946b6",
        "outputId": "2e7318b4-648f-47eb-ba28-8651b0172ed3"
      },
      "outputs": [
        {
          "data": {
            "text/html": [
              "<div>\n",
              "<style scoped>\n",
              "    .dataframe tbody tr th:only-of-type {\n",
              "        vertical-align: middle;\n",
              "    }\n",
              "\n",
              "    .dataframe tbody tr th {\n",
              "        vertical-align: top;\n",
              "    }\n",
              "\n",
              "    .dataframe thead th {\n",
              "        text-align: right;\n",
              "    }\n",
              "</style>\n",
              "<table border=\"1\" class=\"dataframe\">\n",
              "  <thead>\n",
              "    <tr style=\"text-align: right;\">\n",
              "      <th></th>\n",
              "      <th>Cargo</th>\n",
              "      <th>Sector</th>\n",
              "      <th>Práctica de arte</th>\n",
              "      <th>País de residencia</th>\n",
              "    </tr>\n",
              "  </thead>\n",
              "  <tbody>\n",
              "    <tr>\n",
              "      <th>1</th>\n",
              "      <td>INDEPENDIENTE</td>\n",
              "      <td>V- OTROS</td>\n",
              "      <td>1</td>\n",
              "      <td>COLOMBIA</td>\n",
              "    </tr>\n",
              "    <tr>\n",
              "      <th>3</th>\n",
              "      <td>INDEPENDIENTE</td>\n",
              "      <td>V- OTROS</td>\n",
              "      <td>1</td>\n",
              "      <td>COLOMBIA</td>\n",
              "    </tr>\n",
              "    <tr>\n",
              "      <th>8</th>\n",
              "      <td>ARTISTA</td>\n",
              "      <td>No identificado</td>\n",
              "      <td>1</td>\n",
              "      <td>COLOMBIA</td>\n",
              "    </tr>\n",
              "    <tr>\n",
              "      <th>10</th>\n",
              "      <td>VISUAL ARTIST</td>\n",
              "      <td>No identificado</td>\n",
              "      <td>1</td>\n",
              "      <td>COLOMBIA</td>\n",
              "    </tr>\n",
              "    <tr>\n",
              "      <th>13</th>\n",
              "      <td>ARTISTA</td>\n",
              "      <td>V- OTROS</td>\n",
              "      <td>1</td>\n",
              "      <td>COLOMBIA</td>\n",
              "    </tr>\n",
              "    <tr>\n",
              "      <th>...</th>\n",
              "      <td>...</td>\n",
              "      <td>...</td>\n",
              "      <td>...</td>\n",
              "      <td>...</td>\n",
              "    </tr>\n",
              "    <tr>\n",
              "      <th>1386</th>\n",
              "      <td>INDEPENDIENTE</td>\n",
              "      <td>V- OTROS</td>\n",
              "      <td>1</td>\n",
              "      <td>COLOMBIA</td>\n",
              "    </tr>\n",
              "    <tr>\n",
              "      <th>1388</th>\n",
              "      <td>CONCEPT ARTIST</td>\n",
              "      <td>V- OTROS</td>\n",
              "      <td>1</td>\n",
              "      <td>COLOMBIA</td>\n",
              "    </tr>\n",
              "    <tr>\n",
              "      <th>1394</th>\n",
              "      <td>INDEPENDIENTE</td>\n",
              "      <td>V- OTROS</td>\n",
              "      <td>1</td>\n",
              "      <td>COLOMBIA</td>\n",
              "    </tr>\n",
              "    <tr>\n",
              "      <th>1401</th>\n",
              "      <td>INDEPENDIENTE</td>\n",
              "      <td>V- OTROS</td>\n",
              "      <td>1</td>\n",
              "      <td>COLOMBIA</td>\n",
              "    </tr>\n",
              "    <tr>\n",
              "      <th>1409</th>\n",
              "      <td>INDEPENDIENTE</td>\n",
              "      <td>V- OTROS</td>\n",
              "      <td>1</td>\n",
              "      <td>COLOMBIA</td>\n",
              "    </tr>\n",
              "  </tbody>\n",
              "</table>\n",
              "<p>200 rows × 4 columns</p>\n",
              "</div>"
            ],
            "text/plain": [
              "               Cargo           Sector  Práctica de arte País de residencia\n",
              "1      INDEPENDIENTE         V- OTROS                 1           COLOMBIA\n",
              "3      INDEPENDIENTE         V- OTROS                 1           COLOMBIA\n",
              "8            ARTISTA  No identificado                 1           COLOMBIA\n",
              "10     VISUAL ARTIST  No identificado                 1           COLOMBIA\n",
              "13           ARTISTA         V- OTROS                 1           COLOMBIA\n",
              "...              ...              ...               ...                ...\n",
              "1386   INDEPENDIENTE         V- OTROS                 1           COLOMBIA\n",
              "1388  CONCEPT ARTIST         V- OTROS                 1           COLOMBIA\n",
              "1394   INDEPENDIENTE         V- OTROS                 1           COLOMBIA\n",
              "1401   INDEPENDIENTE         V- OTROS                 1           COLOMBIA\n",
              "1409   INDEPENDIENTE         V- OTROS                 1           COLOMBIA\n",
              "\n",
              "[200 rows x 4 columns]"
            ]
          },
          "execution_count": 70,
          "metadata": {},
          "output_type": "execute_result"
        }
      ],
      "source": [
        "practicanArte = datosArtistas['Práctica de arte']==1\n",
        "artistasActivos = datosArtistas[practicanArte].copy()\n",
        "\n",
        "artistasActivos[['Cargo', 'Sector', 'Práctica de arte', 'País de residencia']]"
      ]
    },
    {
      "cell_type": "markdown",
      "id": "5d7c7ce9-e292-4724-91b3-338848a455f4",
      "metadata": {
        "id": "5d7c7ce9-e292-4724-91b3-338848a455f4"
      },
      "source": [
        "## Análisis con artistasActivos"
      ]
    },
    {
      "cell_type": "code",
      "execution_count": null,
      "id": "bb9b9546-7761-4fd6-a5be-ec835de1f764",
      "metadata": {
        "id": "bb9b9546-7761-4fd6-a5be-ec835de1f764",
        "outputId": "a08b2383-4466-467f-d89e-f81585c721f9"
      },
      "outputs": [
        {
          "data": {
            "text/plain": [
              "Género\n",
              "Femenino     135\n",
              "Masculino     65\n",
              "Name: count, dtype: int64"
            ]
          },
          "execution_count": 71,
          "metadata": {},
          "output_type": "execute_result"
        }
      ],
      "source": [
        "artistasActivos['Género'].value_counts()"
      ]
    },
    {
      "cell_type": "code",
      "execution_count": null,
      "id": "58aec034-f42f-4f32-bfbc-49184c54bee3",
      "metadata": {
        "id": "58aec034-f42f-4f32-bfbc-49184c54bee3",
        "outputId": "5eb34c3b-1115-4eb8-bd3c-4e0e364b81b6"
      },
      "outputs": [
        {
          "data": {
            "text/plain": [
              "Género\n",
              "Femenino     67.5\n",
              "Masculino    32.5\n",
              "Name: proportion, dtype: float64"
            ]
          },
          "execution_count": 72,
          "metadata": {},
          "output_type": "execute_result"
        }
      ],
      "source": [
        "artistasActivos['Género'].value_counts(normalize=True)*100"
      ]
    },
    {
      "cell_type": "markdown",
      "id": "e346ef09-5874-4e30-99bc-aa6320fd16a3",
      "metadata": {
        "id": "e346ef09-5874-4e30-99bc-aa6320fd16a3"
      },
      "source": [
        "**Para referencia** del total de egresados de artes (sacando historia del arte)"
      ]
    },
    {
      "cell_type": "code",
      "execution_count": null,
      "id": "4b4001ae-550b-476c-a65f-eb5180759bbc",
      "metadata": {
        "id": "4b4001ae-550b-476c-a65f-eb5180759bbc",
        "outputId": "6977d43e-2769-49aa-efb3-be86a03cae67"
      },
      "outputs": [
        {
          "data": {
            "text/plain": [
              "Género\n",
              "Femenino     933\n",
              "Masculino    407\n",
              "Name: count, dtype: int64"
            ]
          },
          "execution_count": 73,
          "metadata": {},
          "output_type": "execute_result"
        }
      ],
      "source": [
        "datosArtistas['Género'].value_counts()"
      ]
    },
    {
      "cell_type": "code",
      "execution_count": null,
      "id": "34f19bdf-2852-42d0-84f6-dcab3d9009d0",
      "metadata": {
        "id": "34f19bdf-2852-42d0-84f6-dcab3d9009d0",
        "outputId": "791f4971-4d9a-4f26-ffbf-22a9ecaf9667"
      },
      "outputs": [
        {
          "data": {
            "text/plain": [
              "Género\n",
              "Femenino     69.626866\n",
              "Masculino    30.373134\n",
              "Name: proportion, dtype: float64"
            ]
          },
          "execution_count": 74,
          "metadata": {},
          "output_type": "execute_result"
        }
      ],
      "source": [
        "datosArtistas['Género'].value_counts(normalize=True)*100"
      ]
    },
    {
      "cell_type": "markdown",
      "id": "45ab512c-21c3-4d2f-9f01-ea4ae85d316d",
      "metadata": {
        "id": "45ab512c-21c3-4d2f-9f01-ea4ae85d316d"
      },
      "source": [
        "### Comparaciones de género"
      ]
    },
    {
      "cell_type": "code",
      "execution_count": null,
      "id": "20e013c2-8a32-4266-8144-dc9803b076d7",
      "metadata": {
        "id": "20e013c2-8a32-4266-8144-dc9803b076d7"
      },
      "outputs": [],
      "source": [
        "practicaMujeres = artistasActivos[artistasActivos['Género'] == 'Femenino'].copy()\n",
        "practicaHombres = artistasActivos[artistasActivos['Género'] == 'Masculino'].copy()"
      ]
    },
    {
      "cell_type": "markdown",
      "id": "e63f6cb9-a92d-418c-aea2-572a3eba5231",
      "metadata": {
        "id": "e63f6cb9-a92d-418c-aea2-572a3eba5231"
      },
      "source": [
        "**De artistas que por Cargo identificamos practican arte tenemos las siguientes bases de datos**:\n",
        "- artistasActivos\n",
        "- practicaMujeres\n",
        "- practicaHombres"
      ]
    },
    {
      "cell_type": "code",
      "execution_count": null,
      "id": "dc89479c-8f95-4e02-8173-10ef16942ae2",
      "metadata": {
        "id": "dc89479c-8f95-4e02-8173-10ef16942ae2",
        "outputId": "8b747968-ae4c-4eff-fd96-1b561bd34a96"
      },
      "outputs": [
        {
          "name": "stdout",
          "output_type": "stream",
          "text": [
            "=================================================\n",
            "==========     Nivel Jerárquico   ===========\n",
            "=================================================\n",
            "================     MUJERES   ==================\n"
          ]
        },
        {
          "data": {
            "text/plain": [
              "Nivel Jerárquico\n",
              "Independiente     71\n",
              "Profesional       62\n",
              "No clasificado     1\n",
              "Directivo          1\n",
              "Name: count, dtype: int64"
            ]
          },
          "metadata": {},
          "output_type": "display_data"
        },
        {
          "data": {
            "text/plain": [
              "Nivel Jerárquico\n",
              "Independiente     52.592593\n",
              "Profesional       45.925926\n",
              "No clasificado     0.740741\n",
              "Directivo          0.740741\n",
              "Name: proportion, dtype: float64"
            ]
          },
          "metadata": {},
          "output_type": "display_data"
        },
        {
          "name": "stdout",
          "output_type": "stream",
          "text": [
            "================     HOMBRES   ==================\n"
          ]
        },
        {
          "data": {
            "text/plain": [
              "Nivel Jerárquico\n",
              "Profesional       37\n",
              "Independiente     27\n",
              "No clasificado     1\n",
              "Name: count, dtype: int64"
            ]
          },
          "metadata": {},
          "output_type": "display_data"
        },
        {
          "data": {
            "text/plain": [
              "Nivel Jerárquico\n",
              "Profesional       56.923077\n",
              "Independiente     41.538462\n",
              "No clasificado     1.538462\n",
              "Name: proportion, dtype: float64"
            ]
          },
          "metadata": {},
          "output_type": "display_data"
        },
        {
          "name": "stdout",
          "output_type": "stream",
          "text": [
            "=================================================\n",
            "=================================================\n",
            "==========     Sector   ===========\n",
            "=================================================\n",
            "================     MUJERES   ==================\n"
          ]
        },
        {
          "data": {
            "text/plain": [
              "Sector\n",
              "V- OTROS                                                                                       119\n",
              "No identificado                                                                                  9\n",
              "G -COMERCIO AL POR MAYOR Y AL POR MENOR; REPARACIÓN DE VEHÍCULOS AUTOMOTORES Y MOTOCICLETAS      3\n",
              "O -ADMINISTRACIÓN PÚBLICA Y DEFENSA; PLANES DE SEGURIDAD SOCIAL DE AFILIACIÓN OBLIGATORIA        1\n",
              "J -INFORMACIÓN Y COMUNICACIONES                                                                  1\n",
              "M -ACTIVIDADES PROFESIONALES, CIENTÍFICAS Y TÉCNICAS                                             1\n",
              "S -OTRAS ACTIVIDADES DE SERVICIOS                                                                1\n",
              "Name: count, dtype: int64"
            ]
          },
          "metadata": {},
          "output_type": "display_data"
        },
        {
          "data": {
            "text/plain": [
              "Sector\n",
              "V- OTROS                                                                                       88.148148\n",
              "No identificado                                                                                 6.666667\n",
              "G -COMERCIO AL POR MAYOR Y AL POR MENOR; REPARACIÓN DE VEHÍCULOS AUTOMOTORES Y MOTOCICLETAS     2.222222\n",
              "O -ADMINISTRACIÓN PÚBLICA Y DEFENSA; PLANES DE SEGURIDAD SOCIAL DE AFILIACIÓN OBLIGATORIA       0.740741\n",
              "J -INFORMACIÓN Y COMUNICACIONES                                                                 0.740741\n",
              "M -ACTIVIDADES PROFESIONALES, CIENTÍFICAS Y TÉCNICAS                                            0.740741\n",
              "S -OTRAS ACTIVIDADES DE SERVICIOS                                                               0.740741\n",
              "Name: proportion, dtype: float64"
            ]
          },
          "metadata": {},
          "output_type": "display_data"
        },
        {
          "name": "stdout",
          "output_type": "stream",
          "text": [
            "================     HOMBRES   ==================\n"
          ]
        },
        {
          "data": {
            "text/plain": [
              "Sector\n",
              "V- OTROS           59\n",
              "No identificado     5\n",
              "F -CONSTRUCCIÓN     1\n",
              "Name: count, dtype: int64"
            ]
          },
          "metadata": {},
          "output_type": "display_data"
        },
        {
          "data": {
            "text/plain": [
              "Sector\n",
              "V- OTROS           90.769231\n",
              "No identificado     7.692308\n",
              "F -CONSTRUCCIÓN     1.538462\n",
              "Name: proportion, dtype: float64"
            ]
          },
          "metadata": {},
          "output_type": "display_data"
        },
        {
          "name": "stdout",
          "output_type": "stream",
          "text": [
            "=================================================\n",
            "=================================================\n",
            "==========     Rango Salarial   ===========\n",
            "=================================================\n",
            "================     MUJERES   ==================\n"
          ]
        },
        {
          "data": {
            "text/plain": [
              "Rango Salarial\n",
              "1 a 2 S.M.M.L.V      1\n",
              "3.1 a 4 S.M.M.L.V    1\n",
              "Name: count, dtype: int64"
            ]
          },
          "metadata": {},
          "output_type": "display_data"
        },
        {
          "data": {
            "text/plain": [
              "Rango Salarial\n",
              "1 a 2 S.M.M.L.V      50.0\n",
              "3.1 a 4 S.M.M.L.V    50.0\n",
              "Name: proportion, dtype: float64"
            ]
          },
          "metadata": {},
          "output_type": "display_data"
        },
        {
          "name": "stdout",
          "output_type": "stream",
          "text": [
            "================     HOMBRES   ==================\n"
          ]
        },
        {
          "data": {
            "text/plain": [
              "Series([], Name: count, dtype: int64)"
            ]
          },
          "metadata": {},
          "output_type": "display_data"
        },
        {
          "data": {
            "text/plain": [
              "Series([], Name: proportion, dtype: float64)"
            ]
          },
          "metadata": {},
          "output_type": "display_data"
        },
        {
          "name": "stdout",
          "output_type": "stream",
          "text": [
            "=================================================\n",
            "=================================================\n",
            "==========     Fecha actualización Rango Salarial   ===========\n",
            "=================================================\n",
            "================     MUJERES   ==================\n"
          ]
        },
        {
          "data": {
            "text/plain": [
              "Fecha actualización Rango Salarial\n",
              "2023-09-25    1\n",
              "2024-07-26    1\n",
              "Name: count, dtype: int64"
            ]
          },
          "metadata": {},
          "output_type": "display_data"
        },
        {
          "data": {
            "text/plain": [
              "Fecha actualización Rango Salarial\n",
              "2023-09-25    50.0\n",
              "2024-07-26    50.0\n",
              "Name: proportion, dtype: float64"
            ]
          },
          "metadata": {},
          "output_type": "display_data"
        },
        {
          "name": "stdout",
          "output_type": "stream",
          "text": [
            "================     HOMBRES   ==================\n"
          ]
        },
        {
          "data": {
            "text/plain": [
              "Series([], Name: count, dtype: int64)"
            ]
          },
          "metadata": {},
          "output_type": "display_data"
        },
        {
          "data": {
            "text/plain": [
              "Series([], Name: proportion, dtype: float64)"
            ]
          },
          "metadata": {},
          "output_type": "display_data"
        },
        {
          "name": "stdout",
          "output_type": "stream",
          "text": [
            "=================================================\n",
            "=================================================\n",
            "==========     País de residencia   ===========\n",
            "=================================================\n",
            "================     MUJERES   ==================\n"
          ]
        },
        {
          "data": {
            "text/plain": [
              "País de residencia\n",
              "COLOMBIA          125\n",
              "ESPAÑA              3\n",
              "PANAMA              1\n",
              "ESTADOS UNIDOS      1\n",
              "CANADA              1\n",
              "ARGENTINA           1\n",
              "Name: count, dtype: int64"
            ]
          },
          "metadata": {},
          "output_type": "display_data"
        },
        {
          "data": {
            "text/plain": [
              "País de residencia\n",
              "COLOMBIA          94.696970\n",
              "ESPAÑA             2.272727\n",
              "PANAMA             0.757576\n",
              "ESTADOS UNIDOS     0.757576\n",
              "CANADA             0.757576\n",
              "ARGENTINA          0.757576\n",
              "Name: proportion, dtype: float64"
            ]
          },
          "metadata": {},
          "output_type": "display_data"
        },
        {
          "name": "stdout",
          "output_type": "stream",
          "text": [
            "================     HOMBRES   ==================\n"
          ]
        },
        {
          "data": {
            "text/plain": [
              "País de residencia\n",
              "COLOMBIA          61\n",
              "PAISES BAJOS       1\n",
              "ESPAÑA             1\n",
              "ESTADOS UNIDOS     1\n",
              "Name: count, dtype: int64"
            ]
          },
          "metadata": {},
          "output_type": "display_data"
        },
        {
          "data": {
            "text/plain": [
              "País de residencia\n",
              "COLOMBIA          95.3125\n",
              "PAISES BAJOS       1.5625\n",
              "ESPAÑA             1.5625\n",
              "ESTADOS UNIDOS     1.5625\n",
              "Name: proportion, dtype: float64"
            ]
          },
          "metadata": {},
          "output_type": "display_data"
        },
        {
          "name": "stdout",
          "output_type": "stream",
          "text": [
            "=================================================\n"
          ]
        }
      ],
      "source": [
        "columnas = ['Nivel Jerárquico', 'Sector', 'Rango Salarial',\n",
        "       'Fecha actualización Rango Salarial', 'País de residencia']\n",
        "\n",
        "for nombreColumna in columnas:\n",
        "    print('=================================================')\n",
        "    print('==========     '+nombreColumna+'   ===========')\n",
        "    print('=================================================')\n",
        "    print('================     MUJERES   ==================')\n",
        "    display(practicaMujeres[nombreColumna].value_counts())\n",
        "    display(practicaMujeres[nombreColumna].value_counts(normalize=True)*100)\n",
        "    print('================     HOMBRES   ==================')\n",
        "    display(practicaHombres[nombreColumna].value_counts())\n",
        "    display(practicaHombres[nombreColumna].value_counts(normalize=True)*100)\n",
        "    print('=================================================')"
      ]
    },
    {
      "cell_type": "markdown",
      "id": "faebda4e-dddc-498a-8585-c0abb64eae30",
      "metadata": {
        "id": "faebda4e-dddc-498a-8585-c0abb64eae30"
      },
      "source": [
        "## De las mujeres/hombres cuántos identificamos que se dedican al arte"
      ]
    },
    {
      "cell_type": "code",
      "execution_count": null,
      "id": "2f3d6e62-d724-4411-bb38-28212a7e3281",
      "metadata": {
        "id": "2f3d6e62-d724-4411-bb38-28212a7e3281",
        "outputId": "2920ad58-6a67-454f-f1f6-9ac751057cb0"
      },
      "outputs": [
        {
          "name": "stdout",
          "output_type": "stream",
          "text": [
            "Del total de mujeres (no HART) cuántas identificamos que practican arte\n",
            "14.469453376205788\n",
            "\n",
            "Total de mujeres tituladas en la base 933\n",
            "Del total de hombres (no HART) cuántos identificamos que practican arte\n",
            "15.970515970515969\n",
            "Total de hombres tituladas en la base 407\n",
            "\n",
            "Diferencia entre mujeres y hombres\n",
            "-1.5010625943101807\n"
          ]
        }
      ],
      "source": [
        "print('Del total de mujeres (no HART) cuántas identificamos que practican arte')\n",
        "totalMujeresTituladas = artistasMujeres.shape[0]\n",
        "practicantesMujeresArte = practicaMujeres.shape[0]\n",
        "proporcionMujeres = practicantesMujeresArte/totalMujeresTituladas*100\n",
        "print(proporcionMujeres)\n",
        "print('')\n",
        "print('Total de mujeres tituladas en la base', totalMujeresTituladas)\n",
        "print('Del total de hombres (no HART) cuántos identificamos que practican arte')\n",
        "totalHombresTitulados = artistasHombres.shape[0]\n",
        "practicantesHombresArte = practicaHombres.shape[0]\n",
        "proporcionHombres = practicantesHombresArte/totalHombresTitulados*100\n",
        "print(proporcionHombres)\n",
        "print('Total de hombres tituladas en la base', totalHombresTitulados)\n",
        "print('')\n",
        "diferencia = proporcionMujeres-proporcionHombres\n",
        "print('Diferencia entre mujeres y hombres')\n",
        "print(diferencia)\n"
      ]
    },
    {
      "cell_type": "markdown",
      "id": "01dcfe89-6e36-4a42-878f-fafe5a0b1f05",
      "metadata": {
        "id": "01dcfe89-6e36-4a42-878f-fafe5a0b1f05"
      },
      "source": [
        "## Tratando de identificar los egresados en el ecosistema (no practicantes de obra)"
      ]
    },
    {
      "cell_type": "code",
      "execution_count": null,
      "id": "b4dfa513-4223-43f9-92ca-cbd03050cac8",
      "metadata": {
        "id": "b4dfa513-4223-43f9-92ca-cbd03050cac8"
      },
      "outputs": [],
      "source": [
        "listaCasosAmbiguos= ['CONTRATISTA',\n",
        " 'PROFESIONAL',\n",
        "'COORDINADOR',\n",
        "'ASISTENTE',\n",
        "'PROFESIONAL JUNIOR',\n",
        "'DIRECTIVO'\n",
        "]"
      ]
    },
    {
      "cell_type": "code",
      "execution_count": null,
      "id": "058d52cc-1913-4d24-8e15-f4e23bceb376",
      "metadata": {
        "id": "058d52cc-1913-4d24-8e15-f4e23bceb376"
      },
      "outputs": [],
      "source": [
        "etiquetaEcosistema = [\n",
        "    'DOCENTE',\n",
        "    'PROFESORA',\n",
        "    'PROFESOR',\n",
        "    'FUNDADORA',\n",
        "    'DOCENTE DE ARTES',\n",
        "'PROFESORA ASOCIADA',\n",
        "'DIRECTORA',\n",
        "'DISEÑADOR',\n",
        "'DIRECTOR CREATIVO',\n",
        "'DUEÑA',\n",
        "'DISEÑADORA',\n",
        "'TEACHER',\n",
        "'FUNDADOR',\n",
        "'DIRECTORA CREATIVA',\n",
        "'DISEÑADORA GRAFICA'\n",
        "'ASISTENTE DE DIRECCION',\n",
        "'ILUSTRADOR',\n",
        "'ADJUNCT PROFESSOR',\n",
        "'OWNER',\n",
        "'TALLERISTA',\n",
        "'DIRECTORA DE ARTE',\n",
        "'COFUNDADORA',\n",
        "'EDITORA',\n",
        "'GUIONISTA',\n",
        "'PROFESORA DE ARTE',\n",
        "'DOCENTE DE ARTE',\n",
        "'DOCENTE DE CATEDRA',\n",
        "'DIRECTOR',\n",
        "'GALLERY ASSISTANT',\n",
        "'PROPIETARIA',\n",
        "'CONSULTORA SENIOR',\n",
        "'DESIGN LEAD',\n",
        "'EXECUTIVE ASSISTANT TO THE DIRECTOR',\n",
        "'TEACHING ASSISTANT',\n",
        "'COOFUNDADORA DE PROYECTOS CULTURALES',\n",
        "'GESTORA EDITORIAL',\n",
        "'ASESORA DE DISEÑO',\n",
        "'ILUSTRADORA INFANTIL',\n",
        "'ILUSTRADORA INFANTIL',\n",
        "'DOCENTE DE CATEDRA LECTURER',\n",
        "'ASSOCIATE MEDIA ACTIVATION MANAGER',\n",
        "'ANIMADOR PRINCIPAL',\n",
        "'MAESTRA EN ARTE CONCENTRACION PROYECTOS CULTURALES',\n",
        "'CONTENT PRODUCER',\n",
        "'ASISTENTE OCURADORA',\n",
        "'DISEÑADOR GRAFICO',\n",
        "'PROPIETARIO',\n",
        "'ENCARGADA DE PROYECTOS',\n",
        "'PRODUCTOR TECNICO',\n",
        "'ANIMADORA',\n",
        "'ASISTENTE DE PROYECTOS',\n",
        "'CULTURE AND EMPLOYEE BRANDING EXPERT',\n",
        "'TALLERISTA ASISTENTE DE PROYECTO',\n",
        "'ARTISTA ANIMADORA',\n",
        "'CORRECTOR DE TEXTOS EDICION DE VIDEO',\n",
        "'MUSIC PARTNERSHIPS AND PRODUCTION',\n",
        "'GERENTE DE ARTES',\n",
        "'ILUSTRADORA',\n",
        "'SENIOR CREATIVE',\n",
        "'ANALISTA EXPERTO DE DISEÑO DE PRODUCTO',\n",
        "'ART AND CULTURE COORDINATOR',\n",
        "'DIRECTORA DE LA FERIA',\n",
        "'JEFE DE DISEÑO',\n",
        "'DISEÑADOR E INVESTIGADOR',\n",
        "'EDITOR DE VIDEO',\n",
        "'DIRECTOR AUDIOVISUAL',\n",
        "'GERENTE ARTISTICO',\n",
        "'ILLUSTRATOR',\n",
        "'TERAPEUTA DE ARTES EXPRESIVAS',\n",
        "'CREATIVE DIRECTOR & CO FOUNDER',\n",
        "'COORDINADORA DE EDUCACION Y PROGRAMAS PUBLICOS HEAD OF EDUCATION AND PUBLIC PROGRAMS',\n",
        "'JEFE DE PRODUCCION',\n",
        "'PROFESOR BILINGUE DE AUDIOVISUAL',\n",
        "'MENTORA',\n",
        "'INSTRUCTURA DE ARTES PLASTICAS',\n",
        "'FACULTY',\n",
        "'COORDINADORA PROYECTOS',\n",
        "'DESIGNER',\n",
        "'TEACHER MANAGER',\n",
        "'TEACHER ASSISTANT',\n",
        "'DIRECTOR CICLO NODO X',\n",
        "'PSICOTERAUPETA DEL ARTE PROFESORA ARTISTA',\n",
        "'DIRECTORA SENIOR',\n",
        "'DIRECTOR GENERAL',\n",
        "'UX DESIGNER',\n",
        "'DIRECTOR Y GESTOR CULTURAL',\n",
        "'MEDIOS AUDIOVISUALES',\n",
        "'ASSOCIATE PROFESSOR',\n",
        "'DIRECTOR AGUILAS Y MOSCAS',\n",
        "'CONSTRUCCION DE VIDEO',\n",
        "'DISEÑADORA & ESTRATEGA',\n",
        "'ANIMACION 2D',\n",
        "'ASISTENTE CREATIVA',\n",
        "'ASESOR DE MARKETING Y FOTOGRAFO',\n",
        "'ART EDUCATOR',\n",
        "'FACILITADOR DE PROCESOS RESTAURATIVOS',\n",
        "'CREATIVE DIRECTOR',\n",
        "'ACTRIZ DE PLANTA',\n",
        "'PROFESORA ASISTENTE',\n",
        "'ESCRITORA DISEÑADORA DE MODAS',\n",
        "'DIRECTORA DE EXPERIENCIAS',\n",
        "'CO FOUNDER',\n",
        "'ILUSTRACION TEXTIL',\n",
        "'DIRECTOR DE CINE Y FOTOGRAFIA',\n",
        "'DISEÑADORA DE SERVICIOS',\n",
        "'COORDINADORA FOTOGRAFICA',\n",
        "'AUDIOVISUAL',\n",
        "'VISUAL DESIGNER',\n",
        "'CONSULTORA JUNIOR',\n",
        "'PRODUCTORA DE CAMPO DEL CENTRO NACIONAL DE ARTES',\n",
        "'DOCENTE DE ARTE DE PRIMARIA',\n",
        "'DOCENTE CATEDRA ESPECIALIZACION LITERATURA INFANTIL Y JUVENIL',\n",
        "'JUNIOR DESIGNER',\n",
        "'ASESOR DIRECCION ASUNTOS CULTURALES',\n",
        "'PROFESIONAL LIDER DE LA UNIDAD DE GESTION DE LA RED CULTURAL',\n",
        "'INTERPRETE PERMANENTE',\n",
        "'PRINCIPLES OF VISUAL DESIGN INSTRUCTOR OF RECORD',\n",
        "'DISEÑADORA DE MODAS',\n",
        "'MAESTRO',\n",
        "'DIGITAL PROJECTS ASSISTANT',\n",
        "'ASISTENTE DE PRODUCCION',\n",
        "'DIRECTOR Y PRODUCTOR',\n",
        "'EXPERIENTIAL DEVELOPER',\n",
        "'COMPOSITION ARTIST',\n",
        "'PROFESIONAL DISEÑO SENIOR',\n",
        "'ASISTENTE SENIOR DE PROYECTO',\n",
        "'PROFESSIONAL DESIGNER',\n",
        "'MANEJO DE REDES SOCIALES E ILUSTRADORA',\n",
        "'SELF EMPLOYED',\n",
        "'ARTISTA DISEÑADOR',\n",
        "'SUPERVISIORA DE CRIP AP Y COLOR',\n",
        "'FACILITADOR DE ARTE',\n",
        "'ANIMADOR PEDAGOGICO',\n",
        "'CHIEF EXECUTIVE OFFICER',\n",
        "'PRODUCTORA GESTORA CULTURA',\n",
        "'GRAPHIC DESIGN ARTIST',\n",
        "'ASISTENTE DE VESTUARIO',\n",
        "'PRODUCTOR',\n",
        "'FUNDADORA Y REPRESENTANTE LEGAL',\n",
        "'COORDINADORA DE PROYECTOS',\n",
        "'SENIOR PROJECT MANAGER',\n",
        "'DISEÑADOR PROTESIS',\n",
        "'DIRECCION PROYECTOS ESPECIALES',\n",
        "'ARTE Y ENTRETENIMIENTO',\n",
        "'PROFESOR VISITANTE',\n",
        "'GERENTE DE PRODUCCION',\n",
        "'DESIGN LEADER',\n",
        "'ASISTENDE DE CURADURIA',\n",
        "'COORDINADORA DEL COMPONENTE DE CIRCULACION Y FORMACION ARTBO',\n",
        "'GETTY FOUNDATION GRANTS ADMINISTRATION',\n",
        "'DIRECTOR DE BARRIO ABAJO CENTRO DE CREACION CONTEMPORANEA',\n",
        "'ASSISTANT PROFESSOR',\n",
        "'TEACHING ARTIST',\n",
        "'DIRECTOR ACADEMICO',\n",
        "'RESEARCH CURATOR',\n",
        "'DIRECTORA EJECUTIVA',\n",
        "'FABRIC DESIGNER FOR HOME TEXTILES',\n",
        "'DOCENTE INVESTIGADOR',\n",
        "'PROFESOR ASISTENTE',\n",
        "'GRAPHIC DESIGNER',\n",
        "'COORDINADORA DE RESIDENCIAS',\n",
        "'CONSULTOR DE PROYECTOS CULTURALES EN REGIONES DE COLOMBIA',\n",
        "'PROFESOR CATEDRA',\n",
        "'DOCENTE DEPARTAMENTO DE ARTES VISUALES',\n",
        "'CO DIRECTORA',\n",
        "'JEFE DE UTILERIA',\n",
        "'EDUCATION MENTOR',\n",
        "'INVESTIGADOR EN ARTES Y HUMANIDAD',\n",
        "'DIRECTOR EJECUTIVO',\n",
        "'DIRECTOR DE PROYECTOS',\n",
        "'FAIRS AND EXHIBITION MANAGER',\n",
        "'PRODUCTOR CREATIVO',\n",
        "'CURADOR ADJUNTO DE ARTE LATINOAMERICANO',\n",
        "'COORDINADORA DE EXHIBICIONES',\n",
        "'INSTRUCTIONAL LEAD FOR THE ENCORE TEAM ART DRAMA MUSIC PE & HUNGARIAN CULTURE',\n",
        "'EDUCACION COMUNITARIA',\n",
        "'DIRECTORA CENTRO DE ESTUDIOS EN ARTE',\n",
        "'COLECTIVO DE ARTE',\n",
        "'DIRECTORA OBRA GRAFICA Y MOBILIARIO',\n",
        "'CURATOR',\n",
        "'ANIMADORA 3D',\n",
        "'BILINGUAL VISUAL ARTS EDUCATOR',\n",
        "'DIRECTORA DE CINE',\n",
        "'ART ADVISOR',\n",
        "'DIRECTORA DE SERVICIOS ARTISTICOS',\n",
        "'ENVIRONMENT ARTIST',\n",
        "'SELECTION COMMITTEE REGIONAL SHORT FILM',\n",
        "'SENIOR DESIGNER',\n",
        "'EXHIBITION COORDINATOR AND REGISTRAR',\n",
        "'DIRECTORA ACADEMICA',\n",
        "'ANIMADORA DISEÑADORA GRAFICA',\n",
        "'GESTOR CULTURAL',\n",
        "'COORDINADOR DE PROYECTOS Y RELACIONES INTERNACIONALES',\n",
        "'DIRECTOR DE ARTES VISUALES QIBAO DWIGHT HIGH SCHOOL',\n",
        "'PROFESOR DE HISTORIA DEL ARTE',\n",
        "'IN HOUSE PRODUCTION CHIEF',\n",
        "'CREATIVO',\n",
        "'LEAD LIGHTING TD',\n",
        "'DESIGN FELLOW',\n",
        "'CURATOR AND ART MANGER',\n",
        "'CONSULTOR',\n",
        "'ASSISTANT PROFESSOR OF ELEMENTARY Y LITERACY EDUCATION',\n",
        "'PROFESORA DE CATEDRA',\n",
        "'GERENTE DE ARTES PLASTICAS Y VISUALES',\n",
        "'GALLERY EDUCATOR',\n",
        "'ELEMENTARY ART TEACHER',\n",
        "'INSTRUCTORA ARTISTA',\n",
        "'CONSULTORA EN PEDAGOGIA Y GENERO',\n",
        "'COORDINADORA DE AREA DE ARTES',\n",
        "'DISEÃ?ADOR DE PERSONAJES Y ESCENARIOS',\n",
        "'PROFESIONAL CONSERVACION',\n",
        "'DIRECTOR OF PROJECTS',\n",
        "'DIRECTOR DE PROYECTO',\n",
        "'COORDINADORA EDUCATIVA MUSEO MAPUKA',\n",
        "'HEAD OF STUDIO VFX SUPERVISOR',\n",
        "'FUNDADORA Y DOCENTE',\n",
        "'GARDEROBIERE',\n",
        "'HISTORIADORA DE ARTE',\n",
        "'DOCENTE DE ARTES BILINGUE',\n",
        "'DIRECTOR PRODUCCION',\n",
        "'SERVICIO CULTURAL',\n",
        "'DIRECTOR DE PROGRAMAS AUXILIARES',\n",
        "'DIRECTORA DE INNOVACION',\n",
        "'LECTURER',\n",
        "'MAESTRO EN ARTES',\n",
        "'ARTIST EDUCATOR',\n",
        "'GRAPHIC ARTIS AND ILLUSTRATOR',\n",
        "'DISEÑO Y CONFECCION',\n",
        "'ASISTENTE EDITORIAL',\n",
        "'FREELANCE DIRECTOR CREATIVO Y DISEÑADOR VISUAL',\n",
        "'CATEDRA DE INGLES ARTES',\n",
        "'ESCRITOR',\n",
        "'CURADOR',\n",
        "'ASESOR DE ARTE',\n",
        "'DOCENTE DE ARTES VISUALES',\n",
        "'DIRECTORA DESARROLLO PEDAGOGICO Y FORMACION',\n",
        "'HEAD OF GLOBAL VISUAL WOMENSWEAR',\n",
        "'PRODUCTION ASSISTANT',\n",
        "'CO FUNDADORA',\n",
        "'GERENTE CREATIVA',\n",
        "'VIDEO Y XR DIRECTOR CREATIVE',\n",
        "'INDEPENDENT RESEARCHER',\n",
        "'COORDINADOR PROFESOR DEPARTAMENTO ARTES VISUALES',\n",
        "'SENIOR PRODUCT DESIGNER',\n",
        "'ART HANDLING DIRECTOR',\n",
        "'VIDEO EDITOR',\n",
        "'HEAD DESIGN MANAGER FOR PBTEEN',\n",
        "'ASESOR DE PROYECTOS',\n",
        "'DIRECTOR DE ARTE',\n",
        "'INSTRUCTOR LIDER DE INVESTIGACION PEDAGOGICO',\n",
        "'COORDINADOR PROYECTO FUNDACION GATES',\n",
        "'DIRECTORA GENERAL PROPIETARIA Y CREATIVA DE EPIDERMIS Y QORI',\n",
        "'PROFESOR DE CATEDRA',\n",
        "'JK TEACHER',\n",
        "'SOCIA',\n",
        "'PERFORMANCE WORKSHOP',\n",
        "'ARTISTIC DIRECTOR',\n",
        "'LECTURER IN LATIN AMERICAN PERFORMANCE CULTURES',\n",
        "'JEFE GESTION CULTURAL',\n",
        "'DIRECTOR DE PROGRAMA',\n",
        "'PRODUCTION COORDINATOR',\n",
        "'EDITOR ANIMADOR DE VIDEO',\n",
        "'DIRECTORA DEPARTAMENTO',\n",
        "'LEAD SERVICE DESIGNER',\n",
        "'PROFESOR ASOCIADO',\n",
        "'DIRECTOR DE ARTE VISUAL',\n",
        "'JEFE DE REDACCION',\n",
        "'DIRECTORA DE ARTE Y DISEÑADORA GRAFICA',\n",
        "'DIRECTORA DE CINE ARTE',\n",
        "'DOCENTE TEMPORAL ACADEMIA SUPERIOR DE ARTES DE BOGOTA',\n",
        "'DIRECTOR ENTREPRENEUR ARTIST TEACHER',\n",
        "'SENIOR VISUAL DESIGNER',\n",
        "'DOCENTE DE PLANTA ASOCIADA',\n",
        "'RESEARCH ASSISTANT',\n",
        "'ART TEACHER',\n",
        "'ANIMATOR TRANSLATOR WRITER ARTIST',\n",
        "'FOUNDER',\n",
        "'DIRECTORA DE PROYECTO',\n",
        "'JEFE DE ARTES VISUALES',\n",
        "'JEFE DE VENTAS E HIPOTECAS',\n",
        "'FREELANCE',\n",
        "'COFUNDADOR',\n",
        "'DIRECTORA Y FUNDADORA'\n",
        "]"
      ]
    },
    {
      "cell_type": "markdown",
      "id": "6bc14d5a-51c3-4482-9e14-350740448a60",
      "metadata": {
        "id": "6bc14d5a-51c3-4482-9e14-350740448a60"
      },
      "source": [
        "**Reglas**:\n",
        "- Aquellos para los que tenenmos evidencia de que están en el ecosistema.\n",
        "- Para los casos ambiguos (constratista, profesional, etc): no tenemos evidencia suficiente para decir que están en el ecosistema. En esta primera etapa los excluimos, pero luego podemos revisar casos en un segundo momento.\n",
        "- Docencia la incluimos.\n",
        "- Emprendimiento lo incluimos (fundadores, etc).\n",
        "- Carreras hermanas: diseño entraría, arquitectura no.\n",
        "- Social media (content, community...) no."
      ]
    },
    {
      "cell_type": "code",
      "execution_count": null,
      "id": "ac106210-f554-44a1-8873-4a369e0e6605",
      "metadata": {
        "collapsed": true,
        "jupyter": {
          "outputs_hidden": true
        },
        "id": "ac106210-f554-44a1-8873-4a369e0e6605",
        "outputId": "1b59910f-f85c-4aad-ac43-f6cb751249fb"
      },
      "outputs": [
        {
          "name": "stdout",
          "output_type": "stream",
          "text": [
            "DESEMPLEADO\n",
            "DOCENTE\n",
            "ESTUDIANTE\n",
            "GERENTE\n",
            "NO DISPONIBLE\n",
            "AFILIACIONES\n",
            "GERENTE GENERAL\n",
            "PENSIONADO\n",
            "PROFESORA\n",
            "PROFESOR\n",
            "CONTRATISTA\n",
            "PROFESIONAL\n",
            "DOCENTE DE ARTES\n",
            "FUNDADORA\n",
            "PENSIONADA\n",
            "DUEÑA\n",
            "DIRECTOR CREATIVO\n",
            "DIRECTORA\n",
            "PROFESORA ASOCIADA\n",
            "DISEÑADOR\n",
            "DISEÑADORA\n",
            "ASISTENTE\n",
            "DIRECTORA CREATIVA\n",
            "TEACHER\n",
            "COORDINADOR\n",
            "ASISTENTE DE DIRECCION\n",
            "ARQUITECTO\n",
            "DESEMPLEADA\n",
            "FUNDADOR\n",
            "DISEÑADORA GRAFICA\n",
            "ADJUNCT PROFESSOR\n",
            "EDITORA\n",
            "ASESORA\n",
            "GUIONISTA\n",
            "AGENTE BILINGUE\n",
            "OWNER\n",
            "PROGRAM MANAGER\n",
            "ASISTENTE ADMINISTRATIVO\n",
            "FULL STACK ENGINEER\n",
            "COFUNDADORA\n",
            "DIRECTOR\n",
            "PROFESORA DE ARTE\n",
            "DOCENTE DE ARTE\n",
            "DOCENTE DE CATEDRA\n",
            "AGENTE CALL CENTER\n",
            "PROPIETARIA\n",
            "DIRECTORA DE ARTE\n",
            "ILUSTRADOR\n",
            "TRADUCTOR\n",
            "COMMUNICATIONS MANAGER\n",
            "GALLERY ASSISTANT\n",
            "TALLERISTA\n",
            "COMERCIAL\n",
            "PRODUCTOR\n",
            "JUNIOR SOFTWARE ENGINEER\n",
            "ASISTENTE DE VESTUARIO\n",
            "GRAPHIC DESIGN ARTIST\n",
            "DEVELOPER JUNIOR\n",
            "ARQUITECTO PROYECTISTA\n",
            "GESTOR CULTURAL\n",
            "EXPERIENTIAL DEVELOPER\n",
            "DIRECTOR Y PRODUCTOR\n",
            "DISEÑADORA DE SERVICIOS\n",
            "DIRECTOR DE CINE Y FOTOGRAFIA\n",
            "ASISTENTE VIRTUAL\n",
            "COMERCIANTE\n",
            "ILUSTRACION TEXTIL\n",
            "CO FOUNDER\n",
            "GERENTE DE PROYECTO\n",
            "UI DEVELOPER\n",
            "DIRECTORA DE EXPERIENCIAS\n",
            "ESCRITORA DISEÑADORA DE MODAS\n",
            "PROFESORA ASISTENTE\n",
            "CREATIVE DIRECTOR\n",
            "DEPARTAMENTO DE TECNOLOGIA\n",
            "FACILITADOR DE PROCESOS RESTAURATIVOS\n",
            "ACTRIZ DE PLANTA\n",
            "ART EDUCATOR\n",
            "ASESOR DE MARKETING Y FOTOGRAFO\n",
            "LIDER DE GRUPO OSCAE\n",
            "ASISTENTE CREATIVA\n",
            "ANIMACION 2D\n",
            "DIRECTOR DE ARTES VISUALES QIBAO DWIGHT HIGH SCHOOL\n",
            "SUBGERENTE\n",
            "AMBIENTADORA\n",
            "ANIMADORA DISEÑADORA GRAFICA\n",
            "GALLERY EDUCATOR\n",
            "JEFE DE PRODUCCION EN CUNICULO LOS ALISOS\n",
            "GERENTE DE ARTES PLASTICAS Y VISUALES\n",
            "ASISTENTE PREESCOLAR\n",
            "PROFESORA DE CATEDRA\n",
            "ASSISTANT PROFESSOR OF ELEMENTARY Y LITERACY EDUCATION\n",
            "CURATOR AND ART MANGER\n",
            "CONSULTOR\n",
            "SOCIAL MEDIA CONTENT CREATOR\n",
            "BILINGUAL VISUAL ARTS EDUCATOR\n",
            "AGENTE DE CALL CENTER\n",
            "ASESOR DE VENTAS\n",
            "PROFESOR CATEDRA\n",
            "MARKETING DIGITAL\n",
            "CONSULTOR DE PROYECTOS CULTURALES EN REGIONES DE COLOMBIA\n",
            "COORDINADORA DE RESIDENCIAS\n",
            "GRADUATE RESEARCHER\n",
            "INTEGRATION MANAGER\n",
            "GRAPHIC DESIGNER\n",
            "ASISTENTE DE BIBLIOTECA\n",
            "ABOGADA\n",
            "MANAGER\n",
            "PROFESOR ASISTENTE\n",
            "DOCENTE INVESTIGADOR\n",
            "PSICOLOGA\n",
            "FABRIC DESIGNER FOR HOME TEXTILES\n",
            "DECORADORA DE INTERIORES\n",
            "DIRECTORA EJECUTIVA\n",
            "DIRECTOR OF RISK MANAGEMENT INTERNATIONAL OPERATIONS\n",
            "RESEARCH CURATOR\n",
            "DIRECTOR OF TECHNOLOGY\n",
            "DIRECTOR ACADEMICO\n",
            "TEACHING ARTIST\n",
            "ASSISTANT PROFESSOR\n",
            "DIRECTOR DE BARRIO ABAJO CENTRO DE CREACION CONTEMPORANEA\n",
            "DOCENTE DEPARTAMENTO DE ARTES VISUALES\n",
            "CO DIRECTORA\n",
            "JEFE DE UTILERIA\n",
            "INSTRUCTIONAL LEAD FOR THE ENCORE TEAM ART DRAMA MUSIC PE & HUNGARIAN CULTURE\n",
            "ANIMADORA 3D\n",
            "ASOCIADO\n",
            "AUXILIAR CONTABLE\n",
            "CURATOR\n",
            "PRODUCT OWNER\n",
            "DIRECTORA OBRA GRAFICA Y MOBILIARIO\n",
            "FRONT DESK VOLUNTEER\n",
            "COLECTIVO DE ARTE\n",
            "DIRECTORA CENTRO DE ESTUDIOS EN ARTE\n",
            "EDUCACION COMUNITARIA\n",
            "COORDINADORA DE EXHIBICIONES\n",
            "EDUCATION MENTOR\n",
            "ASSISTANT VICE PRESIDENT\n",
            "ANFITRION\n",
            "PROFESIONAL DE APOYO DIRECTO\n",
            "CURADOR ADJUNTO DE ARTE LATINOAMERICANO\n",
            "PRODUCTOR CREATIVO\n",
            "FAIRS AND EXHIBITION MANAGER\n",
            "LIDER DE PRODUCTOS Y SERVICIOS\n",
            "DIRECTOR DE PROYECTOS\n",
            "DIRECTOR EJECUTIVO\n",
            "INVESTIGADOR EN ARTES Y HUMANIDAD\n",
            "COORDINADORA EDUCATIVA MUSEO MAPUKA\n",
            "DIVEMASTER\n",
            "HEAD OF STUDIO VFX SUPERVISOR\n",
            "DIRECTOR DE ARTE\n",
            "ASSOCIATE DIRECTOR OF PROGRAMMING AND COMMUNICATIONS\n",
            "EDITOR ANIMADOR DE VIDEO\n",
            "PRODUCTION COORDINATOR\n",
            "DIRECTOR DE PROGRAMA\n",
            "LOCUTOR\n",
            "JEFE GESTION CULTURAL\n",
            "COORDINADORA DE ESTUDIOS INTERCULTURALES\n",
            "DESARROLLADOR\n",
            "LECTURER IN LATIN AMERICAN PERFORMANCE CULTURES\n",
            "ARTISTIC DIRECTOR\n",
            "PERFORMANCE WORKSHOP\n",
            "SOCIA\n",
            "PRODUCTOR MUSICAL\n",
            "PROFESIONAL ESPECIALIZADO\n",
            "ADMINISTRADORA\n",
            "JK TEACHER\n",
            "DOCTORADO EN HISTORIA\n",
            "PROFESOR DE CATEDRA\n",
            "COORDINADOR DE PRACTICAS PROFESIONALES\n",
            "DIRECTORA GENERAL PROPIETARIA Y CREATIVA DE EPIDERMIS Y QORI\n",
            "GERENTE ADMINISTRATIVA\n",
            "COORDINADOR PROYECTO FUNDACION GATES\n",
            "INSTRUCTOR LIDER DE INVESTIGACION PEDAGOGICO\n",
            "DIRECTORA DEPARTAMENTO\n",
            "LEAD SERVICE DESIGNER\n",
            "PROFESOR ASOCIADO\n",
            "RESEARCH ASSISTANT\n",
            "DIRECTORA Y FUNDADORA\n",
            "COFUNDADOR\n",
            "FREELANCE\n",
            "JEFE DE VENTAS E HIPOTECAS\n",
            "JEFE DE ARTES VISUALES\n",
            "DIRECTORA DE PROYECTO\n",
            "CHEESEMAKER\n",
            "FOUNDER\n",
            "ANIMATOR TRANSLATOR WRITER ARTIST\n",
            "ART TEACHER\n",
            "DOCENTE DE PLANTA ASOCIADA\n",
            "CORPORATE FINANCE MANAGER\n",
            "SENIOR VISUAL DESIGNER\n",
            "DIRECTOR ENTREPRENEUR ARTIST TEACHER\n",
            "DOCENTE TEMPORAL ACADEMIA SUPERIOR DE ARTES DE BOGOTA\n",
            "DIRECTORA DE CINE ARTE\n",
            "DIRECTORA DE ARTE Y DISEÑADORA GRAFICA\n",
            "DIRECTIVO\n",
            "DIRECTORA DE GASTRONOMIA\n",
            "JEFE DE REDACCION\n",
            "DIRECTOR DE ARTE VISUAL\n",
            "COMMUNICATIONS DIRECTOR\n",
            "DISEÑADORA PAISAJISTA\n",
            "ASESOR DE PROYECTOS\n",
            "SENIOR MEDIA ASSOCIATE\n",
            "VICEPRESIDENTE OF ENGINEERING\n",
            "ESCRITOR\n",
            "CATEDRA DE INGLES ARTES\n",
            "FREELANCE DIRECTOR CREATIVO Y DISEÑADOR VISUAL\n",
            "ASISTENTE EDITORIAL\n",
            "DISEÑO Y CONFECCION\n",
            "JEFE DE COMPRAS\n",
            "GRAPHIC ARTIS AND ILLUSTRATOR\n",
            "REGIONAL PEOPLE OPERATIONS SENIOR PROJECT MANAGER\n",
            "BACTERIOLOGA\n",
            "ARTIST EDUCATOR\n",
            "MAESTRO EN ARTES\n",
            "LECTURER\n",
            "DIRECTORA DE INNOVACION\n",
            "DIRECTOR DE PROGRAMAS AUXILIARES\n",
            "OFICIAL PROFESIONAL DE TRANSITO\n",
            "SERVICIO CULTURAL\n",
            "DIRECTOR PRODUCCION\n",
            "ASESORA DE IMAGEN\n",
            "DOCENTE DE ARTES BILINGUE\n",
            "HISTORIADORA DE ARTE\n",
            "FREELANCE SPANISH INTERPRETER\n",
            "GARDEROBIERE\n",
            "ADMINISTRATIVO\n",
            "CURADOR\n",
            "ASESOR DE ARTE\n",
            "HUMAN RESOURCES DIRECTOR\n",
            "CX AND STRATEGY VP\n",
            "HEAD DESIGN MANAGER FOR PBTEEN\n",
            "VIDEO EDITOR\n",
            "ART HANDLING DIRECTOR\n",
            "GETTY FOUNDATION GRANTS ADMINISTRATION\n",
            "SENIOR PRODUCT DESIGNER\n",
            "TRADE MARKETING MANAGER\n",
            "COORDINADOR PROFESOR DEPARTAMENTO ARTES VISUALES\n",
            "SENIOR MANAGER OF CONSUMER DEPOSIT ACCESS PRODUCTS LATIN AMERICA AND CARIBBEAN\n",
            "INDEPENDENT RESEARCHER\n",
            "NET COORDINATOR\n",
            "VIDEO Y XR DIRECTOR CREATIVE\n",
            "GERENTE CREATIVA\n",
            "DOCENTE DE ARTES VISUALES\n",
            "CUSTOMER SUCCESS COORDINATOR\n",
            "CO FUNDADORA\n",
            "DIRECTORA ACADEMICA\n",
            "GESTION Y BARISTA\n",
            "PRODUCTION ASSISTANT\n",
            "COORDINADOR REGIONAL CHOCO\n",
            "GERENTE DE TECNOLOGIA\n",
            "ASESOR\n",
            "COORDINADORA DE COMUNICACIONES Y MERCADEO\n",
            "HEAD OF GLOBAL VISUAL WOMENSWEAR\n",
            "DIRECTORA DE BACHILLERATO\n",
            "DIRECTORA DESARROLLO PEDAGOGICO Y FORMACION\n",
            "FUNDADORA Y DOCENTE\n",
            "COMUNICADORA\n",
            "PROFESIONAL JUNIOR\n",
            "COORDINADORA DEL COMPONENTE DE CIRCULACION Y FORMACION ARTBO\n",
            "JEFE DE PRODUCCION\n",
            "COORDINADORA DE EDUCACION Y PROGRAMAS PUBLICOS HEAD OF EDUCATION AND PUBLIC PROGRAMS\n",
            "CREATIVE DIRECTOR & CO FOUNDER\n",
            "TERAPEUTA DE ARTES EXPRESIVAS\n",
            "FULL STACK DEVELOPER\n",
            "ILLUSTRATOR\n",
            "GERENTE ARTISTICO\n",
            "ASSOCIATE PARTNER\n",
            "DIRECTOR AUDIOVISUAL\n",
            "EDITOR DE VIDEO\n",
            "DISEÑADOR E INVESTIGADOR\n",
            "JEFE DE DISEÑO\n",
            "ASISTENTE POSDOCTORAL\n",
            "DIRECTOR DE COMUNICACION\n",
            "DIRECTORA DE LA FERIA\n",
            "ART AND CULTURE COORDINATOR\n",
            "ANALISTA EXPERTO DE DISEÑO DE PRODUCTO\n",
            "SENIOR CREATIVE\n",
            "ILUSTRADORA\n",
            "GERENTE DE ARTES\n",
            "MUSIC PARTNERSHIPS AND PRODUCTION\n",
            "CORRECTOR DE TEXTOS EDICION DE VIDEO\n",
            "COMISARIO ARQUITECTURA VIVA\n",
            "INVESTIGADOR\n",
            "GENERAL LEGAL COUNSEL BBVA VALORES\n",
            "PROFESOR BILINGUE DE AUDIOVISUAL\n",
            "GERENTE AREA COMERCIAL\n",
            "MENTORA\n",
            "ESTRATEGA DE MEDIOS SOCIALES\n",
            "DIRECTOR CICLO NODO X\n",
            "ASSOCIATE PROFESSOR\n",
            "WORLDWIDE VISUAL MERCHANDISER\n",
            "MEDIOS AUDIOVISUALES\n",
            "PAISAJISMO\n",
            "GERENTE ASISTENTE\n",
            "DIRECTOR Y GESTOR CULTURAL\n",
            "COUNTRY MANAGER COLOMBIA\n",
            "ASISTENTE ADMINISTRATIVA DE EDITORIAL\n",
            "UX DESIGNER\n",
            "DIRECTOR GENERAL\n",
            "DIRECTORA SENIOR\n",
            "PSICOTERAUPETA DEL ARTE PROFESORA ARTISTA\n",
            "TEACHER ASSISTANT\n",
            "INSTRUCTURA DE ARTES PLASTICAS\n",
            "ANALISTA DE CALIDAD\n",
            "ENCARGADA DE VENTAS\n",
            "ARTISTA ANIMADORA\n",
            "GUIA TURISTICA\n",
            "DESIGNER\n",
            "COORDINADORA PROYECTOS\n",
            "DIGITAL AND SOCIAL MEDIA CONTENT ASSISTANT\n",
            "ASSISTANT REGISTRAR\n",
            "FACULTY\n",
            "EXPIRIAN ESPECIALITY\n",
            "COMMUNITY ASSOCIATE\n",
            "ARCHITECT\n",
            "COMMUNITY ORGANIZER\n",
            "ASESORA DE PLATAFORMA COMERCIAL\n",
            "MASTER STUDENT\n",
            "ILUSTRADORA INFANTIL\n",
            "ARQUITECTO SENIOR\n",
            "COORDINADORA DE PROGRAMA DOCTORADO\n",
            "TEACHING ASSISTANT\n",
            "EXECUTIVE ASSISTANT TO THE DIRECTOR\n",
            "AREA MANAGER OPERATIONS ROBOTICS STORAGE PLATFORM\n",
            "EXHIBITION COORDINATOR AND REGISTRAR\n",
            "ASSOCIATE MEDIA ACTIVATION MANAGER\n",
            "ASESORA DE CALL CENTER\n",
            "CULTURE AND EMPLOYEE BRANDING EXPERT\n",
            "ASISTENTE DE PROYECTOS\n",
            "COVID 19 SUPPORT SPECIALIST\n",
            "INGENIERO\n",
            "CONTENT PRODUCER\n",
            "MAESTRA EN ARTE CONCENTRACION PROYECTOS CULTURALES\n",
            "UNDERWRITING ASSOCIATE\n",
            "CONSULTORA SENIOR\n",
            "ANIMADORA\n",
            "ASISTENTE OCURADORA\n",
            "DISEÑADOR GRAFICO\n",
            "PROPIETARIO\n",
            "ENCARGADA DE PROYECTOS\n",
            "ADMINISTRADOR\n",
            "PRODUCTOR TECNICO\n",
            "AUDITORA\n",
            "ASESOR DE COBRANZA\n",
            "TALLERISTA ASISTENTE DE PROYECTO\n",
            "ASISTENTE DE GERENCIA\n",
            "ANIMADOR PRINCIPAL\n",
            "COOFUNDADORA DE PROYECTOS CULTURALES\n",
            "NUTRICION\n",
            "DESIGN LEAD\n",
            "ASESORA MUNICIPAL\n",
            "ASISTENTE DE AGRICULTURA DE PRECISION\n",
            "ANALISTA\n",
            "ASESORA DE DISEÑO\n",
            "DOCENTE DE CATEDRA LECTURER\n",
            "RECURSOS HUMANOS\n",
            "TEACHER MANAGER\n",
            "ONLINE EDITOR\n",
            "AUDIOVISUAL\n",
            "UNIVERSAL PRE K SUMMER INTERNSHIP\n",
            "DIRECTORA COMERCIAL Y DE MERCADEO\n",
            "GERENTE DE INTERACCIONES DE VALOR\n",
            "ANIMADOR PEDAGOGICO\n",
            "FACILITADOR DE ARTE\n",
            "SUPERVISIORA DE CRIP AP Y COLOR\n",
            "ARTISTA DISEÑADOR\n",
            "BRAND MANAGER\n",
            "FORTALECIMIENTO EMPRESARIAL\n",
            "SELF EMPLOYED\n",
            "EQUIPO DE APOYO\n",
            "JEFE DE OBRA DE PAISAJE\n",
            "SUPERVISOR DE ESTRUCTURA\n",
            "MANEJO DE REDES SOCIALES E ILUSTRADORA\n",
            "DIRECTOR AGUILAS Y MOSCAS\n",
            "PROFESSIONAL DESIGNER\n",
            "BIKE DOCTOR\n",
            "DIRECCION DE IMAGEN Y COMUNICACION\n",
            "WEBMASTER\n",
            "ASISTENTE SENIOR DE PROYECTO\n",
            "PROFESIONAL DISEÑO SENIOR\n",
            "SOCIAL MEDIA AGENT\n",
            "ARQUITECTA\n",
            "COMPOSITION ARTIST\n",
            "CHIEF EXECUTIVE OFFICER\n",
            "PRODUCTORA GESTORA CULTURA\n",
            "EDITORA WEB\n",
            "ACCOUNT MANAGER\n",
            "ASISTENDE DE CURADURIA\n",
            "JEFE UNIDAD ADMINISTRATIVA Y FINANCIERA\n",
            "DESIGN LEADER\n",
            "DIRECTOR DE RELACIONAMIENTO Y ESTRATEGIA\n",
            "DESARROLLADOR DE JUEGOS\n",
            "COORDINADORA ESTRATEGICA\n",
            "TECNICO DIAPOTECA\n",
            "GERENTE DE PRODUCCION\n",
            "PROFESOR VISITANTE\n",
            "COMMUNITY MANAGER TIKTOK\n",
            "COORDINADOR DE COMUNICACIONES\n",
            "ARTE Y ENTRETENIMIENTO\n",
            "DIRECCION PROYECTOS ESPECIALES\n",
            "DISEÑADOR PROTESIS\n",
            "SENIOR PROJECT MANAGER\n",
            "COMPLIANCE CONTENT MODERATOR\n",
            "COORDINADORA DE PROYECTOS\n",
            "ASESOR DE SERVICIO AL CLIENTE\n",
            "QA ANALYST SENIOR ADVANCED\n",
            "CONSTRUCCION DE VIDEO\n",
            "GESTOR DE CONTENIDOS DIGITALES\n",
            "AGENTE\n",
            "GESTORA EDITORIAL\n",
            "PROFESIONAL LIDER DE LA UNIDAD DE GESTION DE LA RED CULTURAL\n",
            "PROFESOR DE HISTORIA DEL ARTE\n",
            "DIRECTOR DEL AREA DE COMUNICACIONES\n",
            "DIGITAL PROJECTS ASSISTANT\n",
            "MAESTRO\n",
            "DISEÑADORA DE MODAS\n",
            "GESTORA MOVILIDAD\n",
            "TEAM MANAGER\n",
            "PRINCIPLES OF VISUAL DESIGN INSTRUCTOR OF RECORD\n",
            "INTERPRETE PERMANENTE\n",
            "SALES DEVELOPMENT REPRESENTATIVE\n",
            "OFFICE SUPPORT ASSISTANT\n",
            "ASESOR DIRECCION ASUNTOS CULTURALES\n",
            "VISUAL DESIGNER\n",
            "RESEARCH ENGINEER\n",
            "TECNICO\n",
            "JUNIOR DESIGNER\n",
            "DOCENTE CATEDRA ESPECIALIZACION LITERATURA INFANTIL Y JUVENIL\n",
            "COMUNICADOR CREATIVO\n",
            "DOCENTE DE ARTE DE PRIMARIA\n",
            "COMMUNITY PRODUCT MANAGER\n",
            "SUBDIRECCION DE INFRAESTRUCTURA\n",
            "PRODUCTORA DE CAMPO DEL CENTRO NACIONAL DE ARTES\n",
            "DIRECTORA DE MARKETING\n",
            "CONSULTORA JUNIOR\n",
            "CAREER AND ALUMNI SUCCESS ADVISER\n",
            "SENIOR DESIGNER\n",
            "SELECTION COMMITTEE REGIONAL SHORT FILM\n",
            "ENVIRONMENT ARTIST\n",
            "ASISTENTE DE PRODUCCION\n",
            "DIRECTORA DE SERVICIOS ARTISTICOS\n",
            "ART ADVISOR\n",
            "DISEÑADORA & ESTRATEGA\n",
            "COORDINADOR DE PROYECTOS Y RELACIONES INTERNACIONALES\n",
            "DIRECTORA DE CINE\n",
            "ASOCIADA DE VENTAS\n",
            "ASISTENTE ADMINISTRATIVA\n",
            "GRADUATE STUDENT\n",
            "DIRECTORA ADMINISTRATIVA\n",
            "CREATIVO\n",
            "LEAD LIGHTING TD\n",
            "GASTRONOMIA\n",
            "COUNSIL LEADER\n",
            "DIRECTOR DE PROYECTO\n",
            "DIRECTOR OF PROJECTS\n",
            "PROFESIONAL CONSERVACION\n",
            "IN HOUSE PRODUCTION CHIEF\n",
            "CREADOR DE CONTENIDO\n",
            "COCINERO\n",
            "DISEÃ?ADOR DE PERSONAJES Y ESCENARIOS\n",
            "COORDINADORA DE AREA DE ARTES\n",
            "CONSULTORA EN PEDAGOGIA Y GENERO\n",
            "INSTRUCTORA ARTISTA\n",
            "ELEMENTARY ART TEACHER\n",
            "PROFESIONAL PEDAGOGICA\n",
            "DESIGN FELLOW\n",
            "FUNDADORA Y REPRESENTANTE LEGAL\n",
            "COORDINADORA FOTOGRAFICA\n"
          ]
        }
      ],
      "source": [
        "for etiqueta in datosEcosistema['Cargo'].value_counts().index:\n",
        "    print(etiqueta)"
      ]
    },
    {
      "cell_type": "code",
      "execution_count": null,
      "id": "42cc8101-bc23-4ed0-9cf9-22abe9dd2a25",
      "metadata": {
        "id": "42cc8101-bc23-4ed0-9cf9-22abe9dd2a25"
      },
      "outputs": [],
      "source": [
        "datosArtistas['Ecosistema de arte'] = 0\n",
        "for etiquetaDeEcosistema in etiquetaEcosistema:\n",
        "    datosArtistas.loc[datosArtistas['Cargo'] == etiquetaDeEcosistema, 'Ecosistema de arte'] = 1\n",
        "\n",
        "indicesEcosistema = datosArtistas['Ecosistema de arte']==1\n",
        "artistasEcosistema = datosArtistas[indicesEcosistema].copy()\n",
        "\n",
        "#artistasActivos[['Cargo', 'Sector', 'Práctica de arte', 'País de residencia']]"
      ]
    },
    {
      "cell_type": "markdown",
      "id": "995a833b-768a-469d-adb5-661fd281807f",
      "metadata": {
        "id": "995a833b-768a-469d-adb5-661fd281807f"
      },
      "source": [
        "## Análisis con etiquetaEcosistema"
      ]
    },
    {
      "cell_type": "markdown",
      "id": "a30c3d78-1505-474e-a825-8f4ab15db1e1",
      "metadata": {
        "id": "a30c3d78-1505-474e-a825-8f4ab15db1e1"
      },
      "source": [
        "**Distribución de género entre los artistas en el ecosistema de arte**"
      ]
    },
    {
      "cell_type": "code",
      "execution_count": null,
      "id": "d374a365-b114-4195-9476-88c2eeac5197",
      "metadata": {
        "id": "d374a365-b114-4195-9476-88c2eeac5197",
        "outputId": "6bb69ed5-dde8-4052-cab8-5f22152d8d1e"
      },
      "outputs": [
        {
          "data": {
            "text/plain": [
              "Género\n",
              "Femenino     280\n",
              "Masculino    110\n",
              "Name: count, dtype: int64"
            ]
          },
          "execution_count": 83,
          "metadata": {},
          "output_type": "execute_result"
        }
      ],
      "source": [
        "# Distribución inicial por género\n",
        "artistasEcosistema['Género'].value_counts()"
      ]
    },
    {
      "cell_type": "code",
      "execution_count": null,
      "id": "b9d2a521-ff61-4213-93a1-647b8918501c",
      "metadata": {
        "id": "b9d2a521-ff61-4213-93a1-647b8918501c",
        "outputId": "11d14cb0-030c-4d86-c6c6-e99c1b2d43a9"
      },
      "outputs": [
        {
          "data": {
            "text/plain": [
              "Género\n",
              "Femenino     71.794872\n",
              "Masculino    28.205128\n",
              "Name: proportion, dtype: float64"
            ]
          },
          "execution_count": 85,
          "metadata": {},
          "output_type": "execute_result"
        }
      ],
      "source": [
        "artistasEcosistema['Género'].value_counts(normalize=True)*100"
      ]
    },
    {
      "cell_type": "markdown",
      "id": "b2b5bcd5-a185-4181-b41b-287255f2cff7",
      "metadata": {
        "id": "b2b5bcd5-a185-4181-b41b-287255f2cff7"
      },
      "source": [
        "**NOTA** para referencia se observa la distribución nuevamente en la base general"
      ]
    },
    {
      "cell_type": "code",
      "execution_count": null,
      "id": "ce7541bb-d02e-42e5-bdf7-414bb66a9da2",
      "metadata": {
        "id": "ce7541bb-d02e-42e5-bdf7-414bb66a9da2",
        "outputId": "00fafb86-e1be-4fed-a292-6dd2b5908c99"
      },
      "outputs": [
        {
          "data": {
            "text/plain": [
              "Género\n",
              "Femenino     933\n",
              "Masculino    407\n",
              "Name: count, dtype: int64"
            ]
          },
          "execution_count": 86,
          "metadata": {},
          "output_type": "execute_result"
        }
      ],
      "source": [
        "# Contraste con la base completa de artistas\n",
        "datosArtistas['Género'].value_counts()"
      ]
    },
    {
      "cell_type": "code",
      "execution_count": null,
      "id": "ef7679cf-6ffa-4f0f-b8dd-0fbad5c3f292",
      "metadata": {
        "id": "ef7679cf-6ffa-4f0f-b8dd-0fbad5c3f292",
        "outputId": "d7fc26ef-fdc5-418d-c043-68eb7074a9bf"
      },
      "outputs": [
        {
          "data": {
            "text/plain": [
              "Género\n",
              "Femenino     69.626866\n",
              "Masculino    30.373134\n",
              "Name: proportion, dtype: float64"
            ]
          },
          "execution_count": 87,
          "metadata": {},
          "output_type": "execute_result"
        }
      ],
      "source": [
        "datosArtistas['Género'].value_counts(normalize=True)*100"
      ]
    },
    {
      "cell_type": "markdown",
      "id": "f2ede7b8-fe44-4107-b5c2-f7c7c6f35d64",
      "metadata": {
        "id": "f2ede7b8-fe44-4107-b5c2-f7c7c6f35d64"
      },
      "source": [
        "**NOTA** Muy similar."
      ]
    },
    {
      "cell_type": "code",
      "execution_count": null,
      "id": "842c97ad-f21c-4c28-a1a8-cd37f1417eef",
      "metadata": {
        "id": "842c97ad-f21c-4c28-a1a8-cd37f1417eef"
      },
      "outputs": [],
      "source": [
        "# Base de artistas ecosistema de mujeres, y de hombres\n",
        "ecosistemaMujeres = artistasEcosistema[artistasEcosistema['Género'] == 'Femenino'].copy()\n",
        "ecosistemaHombres = artistasEcosistema[artistasEcosistema['Género'] == 'Masculino'].copy()"
      ]
    },
    {
      "cell_type": "markdown",
      "id": "b1b645a6-b237-4247-b14e-1f5aacd89236",
      "metadata": {
        "id": "b1b645a6-b237-4247-b14e-1f5aacd89236"
      },
      "source": [
        "**De artistas que por Cargo identificamos están en el ecosistema de arte tenemos las siguientes bases de datos**:\n",
        "- artistasEcosistema\n",
        "- ecosistemaMujeres\n",
        "- ecosistemaHombres"
      ]
    },
    {
      "cell_type": "code",
      "execution_count": null,
      "id": "de96df27-ab86-4cbd-b5c8-c6504de21388",
      "metadata": {
        "collapsed": true,
        "jupyter": {
          "outputs_hidden": true
        },
        "id": "de96df27-ab86-4cbd-b5c8-c6504de21388",
        "outputId": "3ff918ed-128b-43f0-e4d1-0963b65baa33"
      },
      "outputs": [
        {
          "name": "stdout",
          "output_type": "stream",
          "text": [
            "=================================================\n",
            "==========     Nivel Jerárquico   ===========\n",
            "=================================================\n",
            "================     MUJERES   ==================\n"
          ]
        },
        {
          "data": {
            "text/plain": [
              "Nivel Jerárquico\n",
              "Profesional       193\n",
              "Ejecutivo          50\n",
              "Directivo          28\n",
              "No clasificado      6\n",
              "Soporte             2\n",
              "Independiente       1\n",
              "Name: count, dtype: int64"
            ]
          },
          "metadata": {},
          "output_type": "display_data"
        },
        {
          "data": {
            "text/plain": [
              "Nivel Jerárquico\n",
              "Profesional       68.928571\n",
              "Ejecutivo         17.857143\n",
              "Directivo         10.000000\n",
              "No clasificado     2.142857\n",
              "Soporte            0.714286\n",
              "Independiente      0.357143\n",
              "Name: proportion, dtype: float64"
            ]
          },
          "metadata": {},
          "output_type": "display_data"
        },
        {
          "name": "stdout",
          "output_type": "stream",
          "text": [
            "================     HOMBRES   ==================\n"
          ]
        },
        {
          "data": {
            "text/plain": [
              "Nivel Jerárquico\n",
              "Profesional       76\n",
              "Ejecutivo         25\n",
              "Directivo          6\n",
              "No clasificado     2\n",
              "Independiente      1\n",
              "Name: count, dtype: int64"
            ]
          },
          "metadata": {},
          "output_type": "display_data"
        },
        {
          "data": {
            "text/plain": [
              "Nivel Jerárquico\n",
              "Profesional       69.090909\n",
              "Ejecutivo         22.727273\n",
              "Directivo          5.454545\n",
              "No clasificado     1.818182\n",
              "Independiente      0.909091\n",
              "Name: proportion, dtype: float64"
            ]
          },
          "metadata": {},
          "output_type": "display_data"
        },
        {
          "name": "stdout",
          "output_type": "stream",
          "text": [
            "=================================================\n",
            "=================================================\n",
            "==========     Rango Salarial   ===========\n",
            "=================================================\n",
            "================     MUJERES   ==================\n"
          ]
        },
        {
          "data": {
            "text/plain": [
              "Rango Salarial\n",
              "1 a 2 S.M.M.L.V            8\n",
              "3.1 a 4 S.M.M.L.V          5\n",
              "2.1 a 3 S.M.M.L.V          5\n",
              "6.1 a 10 S.M.M.L.V         1\n",
              "Superior a 20 S.M.M.L.V    1\n",
              "5.1 a 6 S.M.M.L.V          1\n",
              "Name: count, dtype: int64"
            ]
          },
          "metadata": {},
          "output_type": "display_data"
        },
        {
          "data": {
            "text/plain": [
              "Rango Salarial\n",
              "1 a 2 S.M.M.L.V            38.095238\n",
              "3.1 a 4 S.M.M.L.V          23.809524\n",
              "2.1 a 3 S.M.M.L.V          23.809524\n",
              "6.1 a 10 S.M.M.L.V          4.761905\n",
              "Superior a 20 S.M.M.L.V     4.761905\n",
              "5.1 a 6 S.M.M.L.V           4.761905\n",
              "Name: proportion, dtype: float64"
            ]
          },
          "metadata": {},
          "output_type": "display_data"
        },
        {
          "name": "stdout",
          "output_type": "stream",
          "text": [
            "================     HOMBRES   ==================\n"
          ]
        },
        {
          "data": {
            "text/plain": [
              "Rango Salarial\n",
              "3.1 a 4 S.M.M.L.V    4\n",
              "2.1 a 3 S.M.M.L.V    4\n",
              "1 a 2 S.M.M.L.V      1\n",
              "4.1 a 5 S.M.M.L.V    1\n",
              "Name: count, dtype: int64"
            ]
          },
          "metadata": {},
          "output_type": "display_data"
        },
        {
          "data": {
            "text/plain": [
              "Rango Salarial\n",
              "3.1 a 4 S.M.M.L.V    40.0\n",
              "2.1 a 3 S.M.M.L.V    40.0\n",
              "1 a 2 S.M.M.L.V      10.0\n",
              "4.1 a 5 S.M.M.L.V    10.0\n",
              "Name: proportion, dtype: float64"
            ]
          },
          "metadata": {},
          "output_type": "display_data"
        },
        {
          "name": "stdout",
          "output_type": "stream",
          "text": [
            "=================================================\n",
            "=================================================\n",
            "==========     País de residencia   ===========\n",
            "=================================================\n",
            "================     MUJERES   ==================\n"
          ]
        },
        {
          "data": {
            "text/plain": [
              "País de residencia\n",
              "COLOMBIA          252\n",
              "ESTADOS UNIDOS     13\n",
              "CANADA              2\n",
              "ALEMANIA            1\n",
              "MEXICO              1\n",
              "SUECIA              1\n",
              "BELGICA             1\n",
              "REINO UNIDO         1\n",
              "ESPAÑA              1\n",
              "Name: count, dtype: int64"
            ]
          },
          "metadata": {},
          "output_type": "display_data"
        },
        {
          "data": {
            "text/plain": [
              "País de residencia\n",
              "COLOMBIA          92.307692\n",
              "ESTADOS UNIDOS     4.761905\n",
              "CANADA             0.732601\n",
              "ALEMANIA           0.366300\n",
              "MEXICO             0.366300\n",
              "SUECIA             0.366300\n",
              "BELGICA            0.366300\n",
              "REINO UNIDO        0.366300\n",
              "ESPAÑA             0.366300\n",
              "Name: proportion, dtype: float64"
            ]
          },
          "metadata": {},
          "output_type": "display_data"
        },
        {
          "name": "stdout",
          "output_type": "stream",
          "text": [
            "================     HOMBRES   ==================\n"
          ]
        },
        {
          "data": {
            "text/plain": [
              "País de residencia\n",
              "COLOMBIA          103\n",
              "ESTADOS UNIDOS      3\n",
              "CHINA               1\n",
              "REINO UNIDO         1\n",
              "ALEMANIA            1\n",
              "Name: count, dtype: int64"
            ]
          },
          "metadata": {},
          "output_type": "display_data"
        },
        {
          "data": {
            "text/plain": [
              "País de residencia\n",
              "COLOMBIA          94.495413\n",
              "ESTADOS UNIDOS     2.752294\n",
              "CHINA              0.917431\n",
              "REINO UNIDO        0.917431\n",
              "ALEMANIA           0.917431\n",
              "Name: proportion, dtype: float64"
            ]
          },
          "metadata": {},
          "output_type": "display_data"
        },
        {
          "name": "stdout",
          "output_type": "stream",
          "text": [
            "=================================================\n"
          ]
        }
      ],
      "source": [
        "columnas = ['Nivel Jerárquico', 'Rango Salarial', 'País de residencia']\n",
        "\n",
        "for nombreColumna in columnas:\n",
        "    print('=================================================')\n",
        "    print('==========     '+nombreColumna+'   ===========')\n",
        "    print('=================================================')\n",
        "    print('================     MUJERES   ==================')\n",
        "    display(ecosistemaMujeres[nombreColumna].value_counts())\n",
        "    display(ecosistemaMujeres[nombreColumna].value_counts(normalize=True)*100)\n",
        "    print('================     HOMBRES   ==================')\n",
        "    display(ecosistemaHombres[nombreColumna].value_counts())\n",
        "    display(ecosistemaHombres[nombreColumna].value_counts(normalize=True)*100)\n",
        "    print('=================================================')"
      ]
    },
    {
      "cell_type": "markdown",
      "id": "e260519a-51d3-4a7c-ac36-25f4b4fda73b",
      "metadata": {
        "id": "e260519a-51d3-4a7c-ac36-25f4b4fda73b"
      },
      "source": [
        "## De las mujeres/hombres cuántos identificamos que están en el ecosistema"
      ]
    },
    {
      "cell_type": "code",
      "execution_count": null,
      "id": "6e1c591b-0ffd-49ac-861f-4040dca50c85",
      "metadata": {
        "id": "6e1c591b-0ffd-49ac-861f-4040dca50c85",
        "outputId": "cf3cb297-8699-4c02-ddb0-82b3fdd93056"
      },
      "outputs": [
        {
          "name": "stdout",
          "output_type": "stream",
          "text": [
            "Del total de mujeres (no HART) cuántas identificamos que están en el ecosistema\n",
            "30.010718113612008\n",
            "\n",
            "Total de mujeres tituladas en la base 933\n",
            "==================================================================================\n",
            "Del total de hombres (no HART) cuántos identificamos que están en el ecosistema\n",
            "27.027027027027028\n",
            "Total de hombres tituladas en la base 407\n",
            "==================================================================================\n",
            "Diferencia entre mujeres y hombres:\n",
            "2.9836910865849795\n"
          ]
        }
      ],
      "source": [
        "print('Del total de mujeres (no HART) cuántas identificamos que están en el ecosistema')\n",
        "totalMujeresTituladas = artistasMujeres.shape[0]\n",
        "mujeresEcosistemaArte = ecosistemaMujeres.shape[0]\n",
        "proporcionMujeresEcosistema = mujeresEcosistemaArte/totalMujeresTituladas*100\n",
        "print(proporcionMujeres)\n",
        "print('')\n",
        "print('Total de mujeres tituladas en la base', totalMujeresTituladas)\n",
        "print('==================================================================================')\n",
        "print('Del total de hombres (no HART) cuántos identificamos que están en el ecosistema')\n",
        "totalHombresTitulados = artistasHombres.shape[0]\n",
        "hombresEcosistemaArte = ecosistemaHombres.shape[0]\n",
        "proporcionHombresEcosistema = hombresEcosistemaArte/totalHombresTitulados*100\n",
        "print(proporcionHombres)\n",
        "print('Total de hombres tituladas en la base', totalHombresTitulados)\n",
        "print('==================================================================================')\n",
        "diferencia = proporcionMujeresEcosistema-proporcionHombresEcosistema\n",
        "print('Diferencia entre mujeres y hombres:')\n",
        "print(diferencia)"
      ]
    },
    {
      "cell_type": "markdown",
      "id": "77e317b8-9e61-4915-81a6-f8121e855277",
      "metadata": {
        "id": "77e317b8-9e61-4915-81a6-f8121e855277"
      },
      "source": [
        "## Del total de artistas titulados cuál es la proporción que está o bien practicando creación de obra, o bien en el ecosistema (la suma de los dos)"
      ]
    },
    {
      "cell_type": "code",
      "execution_count": null,
      "id": "d230caaa-53af-47ac-8641-f1a6206f3f08",
      "metadata": {
        "id": "d230caaa-53af-47ac-8641-f1a6206f3f08",
        "outputId": "ebd0b73b-8b2e-417b-db90-a5d8a8cc7f71"
      },
      "outputs": [
        {
          "name": "stdout",
          "output_type": "stream",
          "text": [
            "===============================================\n",
            "Del total de mujeres, cuántas \"ecosistema o practica\":\n",
            "44.48017148981779\n",
            "===============================================\n",
            "Del total de hombres, cuántas \"ecosistema o practica\":\n",
            "42.99754299754299\n",
            "===============================================\n",
            "Mujeres que no practican creación de obra y tampoco están en el ecosistema:\n",
            "55.51982851018221\n",
            "Hombres que no practican creación de obra y tampoco están en el ecosistema:\n",
            "57.00245700245701\n"
          ]
        }
      ],
      "source": [
        "print('===============================================')\n",
        "print('Del total de mujeres, cuántas \"ecosistema o practica\":')\n",
        "mujeresEcosistemaOPractica = proporcionMujeres + proporcionMujeresEcosistema\n",
        "print(mujeresEcosistemaOPractica)\n",
        "print('===============================================')\n",
        "print('Del total de hombres, cuántas \"ecosistema o practica\":')\n",
        "hombresEcosistemaOPractica = proporcionHombres + proporcionHombresEcosistema\n",
        "print(hombresEcosistemaOPractica)\n",
        "print('===============================================')\n",
        "print('Mujeres que no practican creación de obra y tampoco están en el ecosistema:')\n",
        "print(100-mujeresEcosistemaOPractica)\n",
        "print('Hombres que no practican creación de obra y tampoco están en el ecosistema:')\n",
        "print(100-hombresEcosistemaOPractica)"
      ]
    },
    {
      "cell_type": "markdown",
      "id": "8a514b35-2e55-4491-8fce-38346863dc16",
      "metadata": {
        "id": "8a514b35-2e55-4491-8fce-38346863dc16"
      },
      "source": [
        "## Categorías de Cargo que corresponden a \"no práctica de arte ni participación en el ecosistema\""
      ]
    },
    {
      "cell_type": "code",
      "execution_count": null,
      "id": "51b2df48-dc65-4841-8607-f2d7c15ffffa",
      "metadata": {
        "id": "51b2df48-dc65-4841-8607-f2d7c15ffffa",
        "outputId": "5afec0e6-f461-4bb0-d195-ac00b6cfc7c1"
      },
      "outputs": [
        {
          "data": {
            "text/plain": [
              "['DESEMPLEADO',\n",
              " 'ESTUDIANTE',\n",
              " 'GERENTE',\n",
              " 'NO DISPONIBLE',\n",
              " 'AFILIACIONES',\n",
              " 'PENSIONADO',\n",
              " 'GERENTE GENERAL',\n",
              " 'CONTRATISTA',\n",
              " 'PROFESIONAL',\n",
              " 'PENSIONADA',\n",
              " 'DESEMPLEADA',\n",
              " 'ASISTENTE',\n",
              " 'DISEÑADORA GRAFICA',\n",
              " 'COORDINADOR',\n",
              " 'ASISTENTE DE DIRECCION',\n",
              " 'ARQUITECTO',\n",
              " 'PROGRAM MANAGER',\n",
              " 'ASESORA',\n",
              " 'ASISTENTE ADMINISTRATIVO',\n",
              " 'COMERCIAL',\n",
              " 'AGENTE BILINGUE',\n",
              " 'AGENTE CALL CENTER',\n",
              " 'TRADUCTOR',\n",
              " 'COMMUNICATIONS MANAGER',\n",
              " 'FULL STACK ENGINEER',\n",
              " 'DEVELOPER JUNIOR',\n",
              " 'ARQUITECTO PROYECTISTA',\n",
              " 'CAREER AND ALUMNI SUCCESS ADVISER',\n",
              " 'ASISTENTE VIRTUAL',\n",
              " 'COMERCIANTE',\n",
              " 'GERENTE DE PROYECTO',\n",
              " 'UI DEVELOPER',\n",
              " 'DEPARTAMENTO DE TECNOLOGIA',\n",
              " 'LIDER DE GRUPO OSCAE',\n",
              " 'ASESOR DE SERVICIO AL CLIENTE',\n",
              " 'QA ANALYST SENIOR ADVANCED',\n",
              " 'SUBGERENTE',\n",
              " 'ASESOR',\n",
              " 'AMBIENTADORA',\n",
              " 'JEFE DE PRODUCCION EN CUNICULO LOS ALISOS',\n",
              " 'ASISTENTE PREESCOLAR',\n",
              " 'SOCIAL MEDIA CONTENT CREATOR',\n",
              " 'AGENTE DE CALL CENTER',\n",
              " 'ASESOR DE VENTAS',\n",
              " 'MARKETING DIGITAL',\n",
              " 'GRADUATE RESEARCHER',\n",
              " 'INTEGRATION MANAGER',\n",
              " 'ASISTENTE DE BIBLIOTECA',\n",
              " 'ABOGADA',\n",
              " 'MANAGER',\n",
              " 'PSICOLOGA',\n",
              " 'DECORADORA DE INTERIORES',\n",
              " 'DIRECTOR OF RISK MANAGEMENT INTERNATIONAL OPERATIONS',\n",
              " 'DIRECTOR OF TECHNOLOGY',\n",
              " 'ASOCIADO',\n",
              " 'AUXILIAR CONTABLE',\n",
              " 'PRODUCT OWNER',\n",
              " 'FRONT DESK VOLUNTEER',\n",
              " 'ASSISTANT VICE PRESIDENT',\n",
              " 'ANFITRION',\n",
              " 'PROFESIONAL DE APOYO DIRECTO',\n",
              " 'LIDER DE PRODUCTOS Y SERVICIOS',\n",
              " 'DIVEMASTER',\n",
              " 'ASSOCIATE DIRECTOR OF PROGRAMMING AND COMMUNICATIONS',\n",
              " 'LOCUTOR',\n",
              " 'COORDINADORA DE ESTUDIOS INTERCULTURALES',\n",
              " 'DESARROLLADOR',\n",
              " 'PRODUCTOR MUSICAL',\n",
              " 'PROFESIONAL ESPECIALIZADO',\n",
              " 'ADMINISTRADORA',\n",
              " 'DOCTORADO EN HISTORIA',\n",
              " 'COORDINADOR DE PRACTICAS PROFESIONALES',\n",
              " 'GERENTE ADMINISTRATIVA',\n",
              " 'CHEESEMAKER',\n",
              " 'CORPORATE FINANCE MANAGER',\n",
              " 'DIRECTIVO',\n",
              " 'DIRECTORA DE GASTRONOMIA',\n",
              " 'COMMUNICATIONS DIRECTOR',\n",
              " 'DISEÑADORA PAISAJISTA',\n",
              " 'SENIOR MEDIA ASSOCIATE',\n",
              " 'VICEPRESIDENTE OF ENGINEERING',\n",
              " 'JEFE DE COMPRAS',\n",
              " 'REGIONAL PEOPLE OPERATIONS SENIOR PROJECT MANAGER',\n",
              " 'BACTERIOLOGA',\n",
              " 'OFICIAL PROFESIONAL DE TRANSITO',\n",
              " 'ASESORA DE IMAGEN',\n",
              " 'FREELANCE SPANISH INTERPRETER',\n",
              " 'ADMINISTRATIVO',\n",
              " 'HUMAN RESOURCES DIRECTOR',\n",
              " 'CX AND STRATEGY VP',\n",
              " 'TRADE MARKETING MANAGER',\n",
              " 'SENIOR MANAGER OF CONSUMER DEPOSIT ACCESS PRODUCTS LATIN AMERICA AND CARIBBEAN',\n",
              " 'NET COORDINATOR',\n",
              " 'CUSTOMER SUCCESS COORDINATOR',\n",
              " 'DIRECTOR DE COMUNICACION',\n",
              " 'GESTION Y BARISTA',\n",
              " 'COORDINADOR REGIONAL CHOCO',\n",
              " 'GERENTE DE TECNOLOGIA',\n",
              " 'ESTRATEGA DE MEDIOS SOCIALES',\n",
              " 'COORDINADORA DE COMUNICACIONES Y MERCADEO',\n",
              " 'DIRECTORA DE BACHILLERATO',\n",
              " 'COMUNICADORA',\n",
              " 'PROFESIONAL JUNIOR',\n",
              " 'FULL STACK DEVELOPER',\n",
              " 'ASSOCIATE PARTNER',\n",
              " 'ASISTENTE POSDOCTORAL',\n",
              " 'COUNTRY MANAGER COLOMBIA',\n",
              " 'COMISARIO ARQUITECTURA VIVA',\n",
              " 'INVESTIGADOR',\n",
              " 'GENERAL LEGAL COUNSEL BBVA VALORES',\n",
              " 'GERENTE AREA COMERCIAL',\n",
              " 'ENCARGADA DE VENTAS',\n",
              " 'WORLDWIDE VISUAL MERCHANDISER',\n",
              " 'PAISAJISMO',\n",
              " 'GERENTE ASISTENTE',\n",
              " 'ASISTENTE ADMINISTRATIVA DE EDITORIAL',\n",
              " 'ANALISTA DE CALIDAD',\n",
              " 'ASISTENTE DE AGRICULTURA DE PRECISION',\n",
              " 'GUIA TURISTICA',\n",
              " 'DIGITAL AND SOCIAL MEDIA CONTENT ASSISTANT',\n",
              " 'ASSISTANT REGISTRAR',\n",
              " 'EXPIRIAN ESPECIALITY',\n",
              " 'COMMUNITY ASSOCIATE',\n",
              " 'ARCHITECT',\n",
              " 'COMMUNITY ORGANIZER',\n",
              " 'ASESORA DE PLATAFORMA COMERCIAL',\n",
              " 'MASTER STUDENT',\n",
              " 'ARQUITECTO SENIOR',\n",
              " 'COORDINADORA DE PROGRAMA DOCTORADO',\n",
              " 'AREA MANAGER OPERATIONS ROBOTICS STORAGE PLATFORM',\n",
              " 'ANALISTA',\n",
              " 'ASESORA DE CALL CENTER',\n",
              " 'COVID 19 SUPPORT SPECIALIST',\n",
              " 'INGENIERO',\n",
              " 'UNDERWRITING ASSOCIATE',\n",
              " 'ADMINISTRADOR',\n",
              " 'AUDITORA',\n",
              " 'ASESOR DE COBRANZA',\n",
              " 'ASISTENTE DE GERENCIA',\n",
              " 'NUTRICION',\n",
              " 'ASESORA MUNICIPAL',\n",
              " 'RECURSOS HUMANOS',\n",
              " 'ONLINE EDITOR',\n",
              " 'UNIVERSAL PRE K SUMMER INTERNSHIP',\n",
              " 'DIRECTORA COMERCIAL Y DE MERCADEO',\n",
              " 'GERENTE DE INTERACCIONES DE VALOR',\n",
              " 'BRAND MANAGER',\n",
              " 'FORTALECIMIENTO EMPRESARIAL',\n",
              " 'EQUIPO DE APOYO',\n",
              " 'JEFE DE OBRA DE PAISAJE',\n",
              " 'SUPERVISOR DE ESTRUCTURA',\n",
              " 'BIKE DOCTOR',\n",
              " 'DIRECCION DE IMAGEN Y COMUNICACION',\n",
              " 'WEBMASTER',\n",
              " 'SOCIAL MEDIA AGENT',\n",
              " 'ARQUITECTA',\n",
              " 'EDITORA WEB',\n",
              " 'ACCOUNT MANAGER',\n",
              " 'JEFE UNIDAD ADMINISTRATIVA Y FINANCIERA',\n",
              " 'DIRECTOR DE RELACIONAMIENTO Y ESTRATEGIA',\n",
              " 'DESARROLLADOR DE JUEGOS',\n",
              " 'COORDINADORA ESTRATEGICA',\n",
              " 'TECNICO DIAPOTECA',\n",
              " 'COMMUNITY MANAGER TIKTOK',\n",
              " 'COORDINADOR DE COMUNICACIONES',\n",
              " 'COMPLIANCE CONTENT MODERATOR',\n",
              " 'JUNIOR SOFTWARE ENGINEER',\n",
              " 'GESTOR DE CONTENIDOS DIGITALES',\n",
              " 'AGENTE',\n",
              " 'DIRECTOR DEL AREA DE COMUNICACIONES',\n",
              " 'GESTORA MOVILIDAD',\n",
              " 'TEAM MANAGER',\n",
              " 'SALES DEVELOPMENT REPRESENTATIVE',\n",
              " 'OFFICE SUPPORT ASSISTANT',\n",
              " 'RESEARCH ENGINEER',\n",
              " 'TECNICO',\n",
              " 'COMUNICADOR CREATIVO',\n",
              " 'COMMUNITY PRODUCT MANAGER',\n",
              " 'SUBDIRECCION DE INFRAESTRUCTURA',\n",
              " 'DIRECTORA DE MARKETING',\n",
              " 'ASOCIADA DE VENTAS',\n",
              " 'ASISTENTE ADMINISTRATIVA',\n",
              " 'GASTRONOMIA',\n",
              " 'GRADUATE STUDENT',\n",
              " 'DIRECTORA ADMINISTRATIVA',\n",
              " 'COUNSIL LEADER',\n",
              " 'CREADOR DE CONTENIDO',\n",
              " 'COCINERO',\n",
              " 'PROFESIONAL PEDAGOGICA']"
            ]
          },
          "execution_count": 103,
          "metadata": {},
          "output_type": "execute_result"
        }
      ],
      "source": [
        "totalCategorias = datosArtistas['Cargo'].value_counts().index\n",
        "\n",
        "#totalCategorias\n",
        "#etiquetaEcosistema\n",
        "#etiquetaDeArtista\n",
        "\n",
        "etiquetasMenosEcosistema = [elemento for elemento in totalCategorias if elemento not in etiquetaEcosistema]\n",
        "etiquetasMenosEcosistemaMenosArtistas = [elemento for elemento in etiquetasMenosEcosistema if elemento not in etiquetaDeArtista]\n",
        "etiquetasMenosEcosistemaMenosArtistas"
      ]
    },
    {
      "cell_type": "markdown",
      "id": "0b56f9b2-84be-4c54-a169-f68d22c01b98",
      "metadata": {
        "id": "0b56f9b2-84be-4c54-a169-f68d22c01b98"
      },
      "source": [
        "## Algunos análisis"
      ]
    },
    {
      "cell_type": "code",
      "execution_count": null,
      "id": "02e9d49a-438d-46ce-9e0c-a54518c470f5",
      "metadata": {
        "id": "02e9d49a-438d-46ce-9e0c-a54518c470f5",
        "outputId": "e7edab7b-bd28-4408-85d9-071d7869a12d"
      },
      "outputs": [
        {
          "data": {
            "text/html": [
              "<div>\n",
              "<style scoped>\n",
              "    .dataframe tbody tr th:only-of-type {\n",
              "        vertical-align: middle;\n",
              "    }\n",
              "\n",
              "    .dataframe tbody tr th {\n",
              "        vertical-align: top;\n",
              "    }\n",
              "\n",
              "    .dataframe thead th {\n",
              "        text-align: right;\n",
              "    }\n",
              "</style>\n",
              "<table border=\"1\" class=\"dataframe\">\n",
              "  <thead>\n",
              "    <tr style=\"text-align: right;\">\n",
              "      <th></th>\n",
              "      <th>Nivel Jerárquico</th>\n",
              "      <th>Cargo</th>\n",
              "      <th>Empleador</th>\n",
              "      <th>Sector</th>\n",
              "      <th>Rango Salarial</th>\n",
              "      <th>Fecha actualización Rango Salarial</th>\n",
              "      <th>País de residencia</th>\n",
              "    </tr>\n",
              "  </thead>\n",
              "  <tbody>\n",
              "    <tr>\n",
              "      <th>0</th>\n",
              "      <td>Profesional</td>\n",
              "      <td>GASTRONOMIA</td>\n",
              "      <td>INDEPENDIENTES</td>\n",
              "      <td>V- OTROS</td>\n",
              "      <td>NaN</td>\n",
              "      <td>NaN</td>\n",
              "      <td>COLOMBIA</td>\n",
              "    </tr>\n",
              "    <tr>\n",
              "      <th>1</th>\n",
              "      <td>Independiente</td>\n",
              "      <td>INDEPENDIENTE</td>\n",
              "      <td>INDEPENDIENTES</td>\n",
              "      <td>V- OTROS</td>\n",
              "      <td>NaN</td>\n",
              "      <td>NaN</td>\n",
              "      <td>COLOMBIA</td>\n",
              "    </tr>\n",
              "    <tr>\n",
              "      <th>2</th>\n",
              "      <td>Profesional</td>\n",
              "      <td>DISEÑADORA</td>\n",
              "      <td>THE BLACK PUMA AI</td>\n",
              "      <td>J -INFORMACIÓN Y COMUNICACIONES</td>\n",
              "      <td>3.1 a 4 S.M.M.L.V</td>\n",
              "      <td>45552.0</td>\n",
              "      <td>COLOMBIA</td>\n",
              "    </tr>\n",
              "    <tr>\n",
              "      <th>3</th>\n",
              "      <td>Independiente</td>\n",
              "      <td>INDEPENDIENTE</td>\n",
              "      <td>INDEPENDIENTES</td>\n",
              "      <td>V- OTROS</td>\n",
              "      <td>NaN</td>\n",
              "      <td>NaN</td>\n",
              "      <td>COLOMBIA</td>\n",
              "    </tr>\n",
              "    <tr>\n",
              "      <th>4</th>\n",
              "      <td>Profesional</td>\n",
              "      <td>PROFESORA DE ARTE</td>\n",
              "      <td>TEACHING AND TUTORING T&amp;T COLLEGE DE COLOMBIA ...</td>\n",
              "      <td>P -EDUCACIÓN</td>\n",
              "      <td>NaN</td>\n",
              "      <td>NaN</td>\n",
              "      <td>NaN</td>\n",
              "    </tr>\n",
              "    <tr>\n",
              "      <th>...</th>\n",
              "      <td>...</td>\n",
              "      <td>...</td>\n",
              "      <td>...</td>\n",
              "      <td>...</td>\n",
              "      <td>...</td>\n",
              "      <td>...</td>\n",
              "      <td>...</td>\n",
              "    </tr>\n",
              "    <tr>\n",
              "      <th>1459</th>\n",
              "      <td>NaN</td>\n",
              "      <td>NaN</td>\n",
              "      <td>No dientificado</td>\n",
              "      <td>No identificado</td>\n",
              "      <td>NaN</td>\n",
              "      <td>NaN</td>\n",
              "      <td>COLOMBIA</td>\n",
              "    </tr>\n",
              "    <tr>\n",
              "      <th>1460</th>\n",
              "      <td>Soporte</td>\n",
              "      <td>ASISTENTE ADMINISTRATIVA</td>\n",
              "      <td>UNIVERSIDAD DE LOS ANDES</td>\n",
              "      <td>P -EDUCACIÓN</td>\n",
              "      <td>NaN</td>\n",
              "      <td>NaN</td>\n",
              "      <td>COLOMBIA</td>\n",
              "    </tr>\n",
              "    <tr>\n",
              "      <th>1461</th>\n",
              "      <td>NaN</td>\n",
              "      <td>NaN</td>\n",
              "      <td>No dientificado</td>\n",
              "      <td>No identificado</td>\n",
              "      <td>NaN</td>\n",
              "      <td>NaN</td>\n",
              "      <td>COLOMBIA</td>\n",
              "    </tr>\n",
              "    <tr>\n",
              "      <th>1462</th>\n",
              "      <td>NaN</td>\n",
              "      <td>NaN</td>\n",
              "      <td>No dientificado</td>\n",
              "      <td>No identificado</td>\n",
              "      <td>NaN</td>\n",
              "      <td>NaN</td>\n",
              "      <td>COLOMBIA</td>\n",
              "    </tr>\n",
              "    <tr>\n",
              "      <th>1463</th>\n",
              "      <td>NaN</td>\n",
              "      <td>NaN</td>\n",
              "      <td>No dientificado</td>\n",
              "      <td>No identificado</td>\n",
              "      <td>NaN</td>\n",
              "      <td>NaN</td>\n",
              "      <td>COLOMBIA</td>\n",
              "    </tr>\n",
              "  </tbody>\n",
              "</table>\n",
              "<p>1464 rows × 7 columns</p>\n",
              "</div>"
            ],
            "text/plain": [
              "     Nivel Jerárquico                     Cargo  \\\n",
              "0         Profesional               GASTRONOMIA   \n",
              "1       Independiente             INDEPENDIENTE   \n",
              "2         Profesional                DISEÑADORA   \n",
              "3       Independiente             INDEPENDIENTE   \n",
              "4         Profesional         PROFESORA DE ARTE   \n",
              "...               ...                       ...   \n",
              "1459              NaN                       NaN   \n",
              "1460          Soporte  ASISTENTE ADMINISTRATIVA   \n",
              "1461              NaN                       NaN   \n",
              "1462              NaN                       NaN   \n",
              "1463              NaN                       NaN   \n",
              "\n",
              "                                              Empleador  \\\n",
              "0                                        INDEPENDIENTES   \n",
              "1                                        INDEPENDIENTES   \n",
              "2                                     THE BLACK PUMA AI   \n",
              "3                                        INDEPENDIENTES   \n",
              "4     TEACHING AND TUTORING T&T COLLEGE DE COLOMBIA ...   \n",
              "...                                                 ...   \n",
              "1459                                    No dientificado   \n",
              "1460                           UNIVERSIDAD DE LOS ANDES   \n",
              "1461                                    No dientificado   \n",
              "1462                                    No dientificado   \n",
              "1463                                    No dientificado   \n",
              "\n",
              "                               Sector     Rango Salarial  \\\n",
              "0                            V- OTROS                NaN   \n",
              "1                            V- OTROS                NaN   \n",
              "2     J -INFORMACIÓN Y COMUNICACIONES  3.1 a 4 S.M.M.L.V   \n",
              "3                            V- OTROS                NaN   \n",
              "4                        P -EDUCACIÓN                NaN   \n",
              "...                               ...                ...   \n",
              "1459                  No identificado                NaN   \n",
              "1460                     P -EDUCACIÓN                NaN   \n",
              "1461                  No identificado                NaN   \n",
              "1462                  No identificado                NaN   \n",
              "1463                  No identificado                NaN   \n",
              "\n",
              "      Fecha actualización Rango Salarial País de residencia  \n",
              "0                                    NaN           COLOMBIA  \n",
              "1                                    NaN           COLOMBIA  \n",
              "2                                45552.0           COLOMBIA  \n",
              "3                                    NaN           COLOMBIA  \n",
              "4                                    NaN                NaN  \n",
              "...                                  ...                ...  \n",
              "1459                                 NaN           COLOMBIA  \n",
              "1460                                 NaN           COLOMBIA  \n",
              "1461                                 NaN           COLOMBIA  \n",
              "1462                                 NaN           COLOMBIA  \n",
              "1463                                 NaN           COLOMBIA  \n",
              "\n",
              "[1464 rows x 7 columns]"
            ]
          },
          "execution_count": 33,
          "metadata": {},
          "output_type": "execute_result"
        }
      ],
      "source": [
        "alumniUnicos[[ 'Nivel Jerárquico', 'Cargo', 'Empleador', 'Sector', 'Rango Salarial',\n",
        "       'Fecha actualización Rango Salarial', 'País de residencia']]"
      ]
    },
    {
      "cell_type": "code",
      "execution_count": null,
      "id": "280651a9-4fd7-4e2d-a532-db341a7ce619",
      "metadata": {
        "id": "280651a9-4fd7-4e2d-a532-db341a7ce619",
        "outputId": "4726a539-3ec3-4009-85a1-30e7e2ad0e91"
      },
      "outputs": [
        {
          "name": "stdout",
          "output_type": "stream",
          "text": [
            "=================================================\n"
          ]
        },
        {
          "data": {
            "text/plain": [
              "Nivel Jerárquico\n",
              "Profesional              550\n",
              "Desempleado              153\n",
              "Ejecutivo                144\n",
              "Independiente            107\n",
              "No clasificado            49\n",
              "Directivo                 48\n",
              "Soporte                   19\n",
              "Jubilado o Pensionado     13\n",
              "Name: count, dtype: int64"
            ]
          },
          "metadata": {},
          "output_type": "display_data"
        },
        {
          "name": "stdout",
          "output_type": "stream",
          "text": [
            "=================================================\n"
          ]
        },
        {
          "data": {
            "text/plain": [
              "Cargo\n",
              "DESEMPLEADO                                         113\n",
              "INDEPENDIENTE                                       105\n",
              "DOCENTE                                              55\n",
              "ARTISTA                                              51\n",
              "ESTUDIANTE                                           32\n",
              "                                                   ... \n",
              "SUBDIRECCION DE INFRAESTRUCTURA                       1\n",
              "PRODUCTORA DE CAMPO DEL CENTRO NACIONAL DE ARTES      1\n",
              "DIRECTORA DE MARKETING                                1\n",
              "CONSULTORA JUNIOR                                     1\n",
              "EXPERIENTIAL DEVELOPER                                1\n",
              "Name: count, Length: 545, dtype: int64"
            ]
          },
          "metadata": {},
          "output_type": "display_data"
        },
        {
          "name": "stdout",
          "output_type": "stream",
          "text": [
            "=================================================\n"
          ]
        },
        {
          "data": {
            "text/plain": [
              "Empleador\n",
              "No dientificado                      381\n",
              "INDEPENDIENTES                       302\n",
              "DESEMPLEADOS                         147\n",
              "UNIVERSIDAD DE LOS ANDES              18\n",
              "PENSIONADOS                           13\n",
              "                                    ... \n",
              "ROJAS Y JIMENEZ S.A.S.                 1\n",
              "COLEGIO VICTORIA S.A.S.                1\n",
              "FABRICA DE ALIMENTOS PICNIC S.A.S      1\n",
              "PICA Y PALA                            1\n",
              "WALLACH ART GALLERY                    1\n",
              "Name: count, Length: 510, dtype: int64"
            ]
          },
          "metadata": {},
          "output_type": "display_data"
        },
        {
          "name": "stdout",
          "output_type": "stream",
          "text": [
            "=================================================\n"
          ]
        },
        {
          "data": {
            "text/plain": [
              "Sector\n",
              "No identificado                                                                                656\n",
              "V- OTROS                                                                                       473\n",
              "P -EDUCACIÓN                                                                                    89\n",
              "M -ACTIVIDADES PROFESIONALES, CIENTÍFICAS Y TÉCNICAS                                            46\n",
              "J -INFORMACIÓN Y COMUNICACIONES                                                                 38\n",
              "R -ACTIVIDADES ARTÍSTICAS, DE ENTRETENIMIENTO Y RECREACIÓN                                      31\n",
              "G -COMERCIO AL POR MAYOR Y AL POR MENOR; REPARACIÓN DE VEHÍCULOS AUTOMOTORES Y MOTOCICLETAS     29\n",
              "C -INDUSTRIAS MANUFACTURERAS                                                                    17\n",
              "K -ACTIVIDADES FINANCIERAS Y DE SEGUROS                                                         14\n",
              "O -ADMINISTRACIÓN PÚBLICA Y DEFENSA; PLANES DE SEGURIDAD SOCIAL DE AFILIACIÓN OBLIGATORIA       14\n",
              "N -ACTIVIDADES DE SERVICIOS ADMINISTRATIVOS Y DE APOYO                                          14\n",
              "S -OTRAS ACTIVIDADES DE SERVICIOS                                                               12\n",
              "F -CONSTRUCCIÓN                                                                                  8\n",
              "L -ACTIVIDADES INMOBILIARIAS                                                                     7\n",
              "A -AGRICULTURA, GANADERÍA, CAZA, SILVICULTURA Y PESCA                                            5\n",
              "I -ALOJAMIENTO Y SERVICIOS DE COMIDA                                                             3\n",
              "H -TRANSPORTE Y ALMACENAMIENTO                                                                   3\n",
              "U -ACTIVIDADES DE ORGANIZACIONES Y ENTIDADES EXTRATERRITORIALES                                  3\n",
              "Q -ACTIVIDADES DE ATENCIÓN DE LA SALUD HUMANA Y DE ASISTENCIA SOCIAL                             2\n",
              "Name: count, dtype: int64"
            ]
          },
          "metadata": {},
          "output_type": "display_data"
        },
        {
          "name": "stdout",
          "output_type": "stream",
          "text": [
            "=================================================\n"
          ]
        },
        {
          "data": {
            "text/plain": [
              "Rango Salarial\n",
              "1 a 2 S.M.M.L.V            27\n",
              "2.1 a 3 S.M.M.L.V          23\n",
              "3.1 a 4 S.M.M.L.V          20\n",
              "4.1 a 5 S.M.M.L.V           8\n",
              "6.1 a 10 S.M.M.L.V          6\n",
              "5.1 a 6 S.M.M.L.V           2\n",
              "Superior a 20 S.M.M.L.V     1\n",
              "Name: count, dtype: int64"
            ]
          },
          "metadata": {},
          "output_type": "display_data"
        },
        {
          "name": "stdout",
          "output_type": "stream",
          "text": [
            "=================================================\n"
          ]
        },
        {
          "data": {
            "text/plain": [
              "Fecha actualización Rango Salarial\n",
              "2024-09-17    2\n",
              "2024-08-05    2\n",
              "2024-07-11    2\n",
              "2023-10-27    2\n",
              "2024-07-23    2\n",
              "             ..\n",
              "2024-10-03    1\n",
              "2024-11-02    1\n",
              "2024-11-13    1\n",
              "2024-10-21    1\n",
              "2024-10-16    1\n",
              "Name: count, Length: 75, dtype: int64"
            ]
          },
          "metadata": {},
          "output_type": "display_data"
        },
        {
          "name": "stdout",
          "output_type": "stream",
          "text": [
            "=================================================\n"
          ]
        },
        {
          "data": {
            "text/plain": [
              "País de residencia\n",
              "COLOMBIA          1313\n",
              "ESTADOS UNIDOS      42\n",
              "REINO UNIDO         10\n",
              "ESPAÑA               9\n",
              "ALEMANIA             7\n",
              "CANADA               5\n",
              "PAISES BAJOS         4\n",
              "FRANCIA              4\n",
              "CHINA                2\n",
              "MEXICO               2\n",
              "ITALIA               2\n",
              "BELGICA              2\n",
              "ECUADOR              1\n",
              "PANAMA               1\n",
              "IRLANDA              1\n",
              "SUECIA               1\n",
              "ARGENTINA            1\n",
              "DINAMARCA            1\n",
              "Name: count, dtype: int64"
            ]
          },
          "metadata": {},
          "output_type": "display_data"
        }
      ],
      "source": [
        "columnas = ['Nivel Jerárquico', 'Cargo', 'Empleador', 'Sector', 'Rango Salarial',\n",
        "       'Fecha actualización Rango Salarial', 'País de residencia']\n",
        "\n",
        "for nombreColumna in columnas:\n",
        "    print('=================================================')\n",
        "    display(alumniUnicos[nombreColumna].value_counts())"
      ]
    },
    {
      "cell_type": "markdown",
      "id": "f98d87ed-73ff-4ad5-b2bb-27c592eff889",
      "metadata": {
        "id": "f98d87ed-73ff-4ad5-b2bb-27c592eff889"
      },
      "source": [
        "## Cruces de género"
      ]
    },
    {
      "cell_type": "code",
      "execution_count": null,
      "id": "76ca987d-fb0e-4f64-ad72-8b0cead7fbe5",
      "metadata": {
        "id": "76ca987d-fb0e-4f64-ad72-8b0cead7fbe5",
        "outputId": "c3a9eac9-d9df-4dec-f89c-e5894c9554df"
      },
      "outputs": [
        {
          "data": {
            "text/plain": [
              "Género\n",
              "Femenino     1030\n",
              "Masculino     434\n",
              "Name: count, dtype: int64"
            ]
          },
          "execution_count": 42,
          "metadata": {},
          "output_type": "execute_result"
        }
      ],
      "source": [
        "alumniUnicos['Género'].value_counts()"
      ]
    },
    {
      "cell_type": "code",
      "execution_count": null,
      "id": "f46eb166-5178-4430-b874-9e461c141ac9",
      "metadata": {
        "id": "f46eb166-5178-4430-b874-9e461c141ac9",
        "outputId": "526a3cfd-6d53-4224-9f0c-f8d494ee27a1"
      },
      "outputs": [
        {
          "data": {
            "text/html": [
              "<div>\n",
              "<style scoped>\n",
              "    .dataframe tbody tr th:only-of-type {\n",
              "        vertical-align: middle;\n",
              "    }\n",
              "\n",
              "    .dataframe tbody tr th {\n",
              "        vertical-align: top;\n",
              "    }\n",
              "\n",
              "    .dataframe thead th {\n",
              "        text-align: right;\n",
              "    }\n",
              "</style>\n",
              "<table border=\"1\" class=\"dataframe\">\n",
              "  <thead>\n",
              "    <tr style=\"text-align: right;\">\n",
              "      <th>Programa</th>\n",
              "      <th>ARTE</th>\n",
              "      <th>ARTES PLASTICAS</th>\n",
              "      <th>BELLAS ARTES</th>\n",
              "      <th>HISTORIA DEL ARTE</th>\n",
              "      <th>All</th>\n",
              "    </tr>\n",
              "    <tr>\n",
              "      <th>Género</th>\n",
              "      <th></th>\n",
              "      <th></th>\n",
              "      <th></th>\n",
              "      <th></th>\n",
              "      <th></th>\n",
              "    </tr>\n",
              "  </thead>\n",
              "  <tbody>\n",
              "    <tr>\n",
              "      <th>Femenino</th>\n",
              "      <td>0.663785</td>\n",
              "      <td>0.76087</td>\n",
              "      <td>0.971014</td>\n",
              "      <td>0.782258</td>\n",
              "      <td>0.703552</td>\n",
              "    </tr>\n",
              "    <tr>\n",
              "      <th>Masculino</th>\n",
              "      <td>0.336215</td>\n",
              "      <td>0.23913</td>\n",
              "      <td>0.028986</td>\n",
              "      <td>0.217742</td>\n",
              "      <td>0.296448</td>\n",
              "    </tr>\n",
              "  </tbody>\n",
              "</table>\n",
              "</div>"
            ],
            "text/plain": [
              "Programa       ARTE  ARTES PLASTICAS  BELLAS ARTES  HISTORIA DEL ARTE  \\\n",
              "Género                                                                  \n",
              "Femenino   0.663785          0.76087      0.971014           0.782258   \n",
              "Masculino  0.336215          0.23913      0.028986           0.217742   \n",
              "\n",
              "Programa        All  \n",
              "Género               \n",
              "Femenino   0.703552  \n",
              "Masculino  0.296448  "
            ]
          },
          "execution_count": 46,
          "metadata": {},
          "output_type": "execute_result"
        }
      ],
      "source": [
        "pd.crosstab(alumniUnicos['Género'], alumniUnicos['Programa'], normalize = 'columns', margins=True)"
      ]
    },
    {
      "cell_type": "code",
      "execution_count": null,
      "id": "52d1d81a-e39b-4a0e-9196-e482b1486928",
      "metadata": {
        "id": "52d1d81a-e39b-4a0e-9196-e482b1486928",
        "outputId": "37a66f32-e6a9-4374-e9ab-f68a7a91a1b3"
      },
      "outputs": [
        {
          "data": {
            "text/html": [
              "<div>\n",
              "<style scoped>\n",
              "    .dataframe tbody tr th:only-of-type {\n",
              "        vertical-align: middle;\n",
              "    }\n",
              "\n",
              "    .dataframe tbody tr th {\n",
              "        vertical-align: top;\n",
              "    }\n",
              "\n",
              "    .dataframe thead th {\n",
              "        text-align: right;\n",
              "    }\n",
              "</style>\n",
              "<table border=\"1\" class=\"dataframe\">\n",
              "  <thead>\n",
              "    <tr style=\"text-align: right;\">\n",
              "      <th>Cargo</th>\n",
              "      <th>DESEMPLEADO</th>\n",
              "      <th>All</th>\n",
              "    </tr>\n",
              "    <tr>\n",
              "      <th>Género</th>\n",
              "      <th></th>\n",
              "      <th></th>\n",
              "    </tr>\n",
              "  </thead>\n",
              "  <tbody>\n",
              "    <tr>\n",
              "      <th>Femenino</th>\n",
              "      <td>0.637168</td>\n",
              "      <td>0.637168</td>\n",
              "    </tr>\n",
              "    <tr>\n",
              "      <th>Masculino</th>\n",
              "      <td>0.362832</td>\n",
              "      <td>0.362832</td>\n",
              "    </tr>\n",
              "  </tbody>\n",
              "</table>\n",
              "</div>"
            ],
            "text/plain": [
              "Cargo      DESEMPLEADO       All\n",
              "Género                          \n",
              "Femenino      0.637168  0.637168\n",
              "Masculino     0.362832  0.362832"
            ]
          },
          "execution_count": 48,
          "metadata": {},
          "output_type": "execute_result"
        }
      ],
      "source": [
        "soloDesempleados = alumniUnicos[alumniUnicos['Cargo']=='DESEMPLEADO']\n",
        "# También ver artista, docente, todas las más frecuentes\n",
        "pd.crosstab(soloDesempleados['Género'], soloDesempleados['Cargo'], normalize = 'columns', margins=True)"
      ]
    },
    {
      "cell_type": "markdown",
      "id": "763bce34-a77a-4e8c-bf6f-fe659879cb7f",
      "metadata": {
        "id": "763bce34-a77a-4e8c-bf6f-fe659879cb7f"
      },
      "source": [
        "**NOTA**: De los que están desempleados el 63% son mujeres, y el 36% son hombres."
      ]
    },
    {
      "cell_type": "code",
      "execution_count": null,
      "id": "f8b66b29-76fd-4bbd-98f0-f4d55e460f2d",
      "metadata": {
        "id": "f8b66b29-76fd-4bbd-98f0-f4d55e460f2d",
        "outputId": "6da5ddc4-4472-4a7d-ec6d-11c39460d7d2"
      },
      "outputs": [
        {
          "data": {
            "text/html": [
              "<div>\n",
              "<style scoped>\n",
              "    .dataframe tbody tr th:only-of-type {\n",
              "        vertical-align: middle;\n",
              "    }\n",
              "\n",
              "    .dataframe tbody tr th {\n",
              "        vertical-align: top;\n",
              "    }\n",
              "\n",
              "    .dataframe thead th {\n",
              "        text-align: right;\n",
              "    }\n",
              "</style>\n",
              "<table border=\"1\" class=\"dataframe\">\n",
              "  <thead>\n",
              "    <tr style=\"text-align: right;\">\n",
              "      <th>Cargo</th>\n",
              "      <th>DOCENTE</th>\n",
              "      <th>All</th>\n",
              "    </tr>\n",
              "    <tr>\n",
              "      <th>Género</th>\n",
              "      <th></th>\n",
              "      <th></th>\n",
              "    </tr>\n",
              "  </thead>\n",
              "  <tbody>\n",
              "    <tr>\n",
              "      <th>Femenino</th>\n",
              "      <td>0.763636</td>\n",
              "      <td>0.763636</td>\n",
              "    </tr>\n",
              "    <tr>\n",
              "      <th>Masculino</th>\n",
              "      <td>0.236364</td>\n",
              "      <td>0.236364</td>\n",
              "    </tr>\n",
              "  </tbody>\n",
              "</table>\n",
              "</div>"
            ],
            "text/plain": [
              "Cargo       DOCENTE       All\n",
              "Género                       \n",
              "Femenino   0.763636  0.763636\n",
              "Masculino  0.236364  0.236364"
            ]
          },
          "execution_count": 49,
          "metadata": {},
          "output_type": "execute_result"
        }
      ],
      "source": [
        "soloDesempleados = alumniUnicos[alumniUnicos['Cargo']=='DOCENTE']\n",
        "# También ver artista, docente, todas las más frecuentes\n",
        "pd.crosstab(soloDesempleados['Género'], soloDesempleados['Cargo'], normalize = 'columns', margins=True)"
      ]
    },
    {
      "cell_type": "code",
      "execution_count": null,
      "id": "de276a8c-5b85-4040-91d8-299660f2429e",
      "metadata": {
        "id": "de276a8c-5b85-4040-91d8-299660f2429e",
        "outputId": "8700f88e-d4a7-4178-804d-4b1a7b90fc35"
      },
      "outputs": [
        {
          "data": {
            "text/html": [
              "<div>\n",
              "<style scoped>\n",
              "    .dataframe tbody tr th:only-of-type {\n",
              "        vertical-align: middle;\n",
              "    }\n",
              "\n",
              "    .dataframe tbody tr th {\n",
              "        vertical-align: top;\n",
              "    }\n",
              "\n",
              "    .dataframe thead th {\n",
              "        text-align: right;\n",
              "    }\n",
              "</style>\n",
              "<table border=\"1\" class=\"dataframe\">\n",
              "  <thead>\n",
              "    <tr style=\"text-align: right;\">\n",
              "      <th>Cargo</th>\n",
              "      <th>ARTISTA</th>\n",
              "      <th>All</th>\n",
              "    </tr>\n",
              "    <tr>\n",
              "      <th>Género</th>\n",
              "      <th></th>\n",
              "      <th></th>\n",
              "    </tr>\n",
              "  </thead>\n",
              "  <tbody>\n",
              "    <tr>\n",
              "      <th>Femenino</th>\n",
              "      <td>0.705882</td>\n",
              "      <td>0.705882</td>\n",
              "    </tr>\n",
              "    <tr>\n",
              "      <th>Masculino</th>\n",
              "      <td>0.294118</td>\n",
              "      <td>0.294118</td>\n",
              "    </tr>\n",
              "  </tbody>\n",
              "</table>\n",
              "</div>"
            ],
            "text/plain": [
              "Cargo       ARTISTA       All\n",
              "Género                       \n",
              "Femenino   0.705882  0.705882\n",
              "Masculino  0.294118  0.294118"
            ]
          },
          "execution_count": 50,
          "metadata": {},
          "output_type": "execute_result"
        }
      ],
      "source": [
        "soloDesempleados = alumniUnicos[alumniUnicos['Cargo']=='ARTISTA']\n",
        "# También ver artista, docente, todas las más frecuentes\n",
        "pd.crosstab(soloDesempleados['Género'], soloDesempleados['Cargo'], normalize = 'columns', margins=True)"
      ]
    },
    {
      "cell_type": "markdown",
      "id": "113477db-8b51-44cc-8952-0cd83c7ae24b",
      "metadata": {
        "id": "113477db-8b51-44cc-8952-0cd83c7ae24b"
      },
      "source": [
        "**¿Qué necesitas de CCB?**\n",
        "\n",
        "De artbo: \"directorio\" de artistas\n",
        "\n",
        "De clusteres...\n",
        "\n",
        "Qué tienen de obras y deals?"
      ]
    }
  ],
  "metadata": {
    "kernelspec": {
      "display_name": "Python 3 (ipykernel)",
      "language": "python",
      "name": "python3"
    },
    "language_info": {
      "codemirror_mode": {
        "name": "ipython",
        "version": 3
      },
      "file_extension": ".py",
      "mimetype": "text/x-python",
      "name": "python",
      "nbconvert_exporter": "python",
      "pygments_lexer": "ipython3",
      "version": "3.13.1"
    },
    "colab": {
      "provenance": []
    }
  },
  "nbformat": 4,
  "nbformat_minor": 5
}